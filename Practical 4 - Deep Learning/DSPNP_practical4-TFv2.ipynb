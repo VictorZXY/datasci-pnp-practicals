{
 "cells": [
  {
   "cell_type": "markdown",
   "metadata": {},
   "source": [
    "# Practical Session 4: Getting Started with Deep Learning Models in TensorFlow\n",
    "\n",
    "*This notebook is based on past years' notebooks by Marek Rei and Guy Emerson*"
   ]
  },
  {
   "cell_type": "markdown",
   "metadata": {},
   "source": [
    "This practical will cover a few different network architectures and we will look at different components that are often used in neural networks in practice. It will also allow you to learn more about [`TensorFlow`](https://www.tensorflow.org), a popular open-source machine learning and deep learning library. I'd also recommend checking the `TensorFlow` documentation to learn more about the rich functionality of this toolkit.\n",
    "\n",
    "\n",
    "## Learning objectives\n",
    "\n",
    "In this practical you will learn about:\n",
    "- The basics of running `TensorFlow` \n",
    "- How to implement a feedforward neural network in Python\n",
    "- How to visualise your network architecture using `TensorBoard` and track changes \n",
    "- How to apply deep learning to both classification and regression tasks.\n",
    "\n",
    "**Additional references**: Aurelien Geron, *Hands-on Machine Learning with Scikit-Learn, Keras and TensorFlow*.\n",
    "\n",
    "Before we start, let's import the usual libraries as we did in previous practicals:"
   ]
  },
  {
   "cell_type": "code",
   "execution_count": 1,
   "metadata": {},
   "outputs": [],
   "source": [
    "%matplotlib inline \n",
    "\n",
    "import numpy as np \n",
    "np.random.seed(42)\n",
    "\n",
    "import matplotlib\n",
    "from matplotlib import pyplot as plt"
   ]
  },
  {
   "cell_type": "markdown",
   "metadata": {},
   "source": [
    "Now let's import `TensorFlow` into our notebook. Note: `TensorFlow` v2 was released last year, and it mostly relies on `Keras` interpretative module fit on top of it. As a result, it is much more interpretable and user-friendly than v1, however if you want to better understand the inner workings of `TensorFlow` you are welcome to check the accompanying notebook [`DSPNP_practical4-TFv1.ipynb`](./DSPNP_practical4-TFv1.ipynb): even if you are using `TensorFlow2`, you can still switch to using v1 API, which is available as a submodule. "
   ]
  },
  {
   "cell_type": "code",
   "execution_count": 2,
   "metadata": {},
   "outputs": [],
   "source": [
    "import tensorflow as tf\n",
    "#tf.compat.v1"
   ]
  },
  {
   "cell_type": "code",
   "execution_count": 3,
   "metadata": {},
   "outputs": [
    {
     "data": {
      "text/plain": [
       "'2.3.1'"
      ]
     },
     "execution_count": 3,
     "metadata": {},
     "output_type": "execute_result"
    }
   ],
   "source": [
    "tf.__version__"
   ]
  },
  {
   "cell_type": "markdown",
   "metadata": {},
   "source": [
    "# Minimal TensorFlow Example\n",
    "\n",
    "In this example, we create a simple network that takes an input vector, multiplies it by a weight matrix, adds a weight vector, and returns the result.\n",
    "\n",
    "`tf.Variable` defines model parameters, which can be trained (as we will see shortly). Here, we initialise the matrix variable as a 3x3 matrix, with every entry as 1 (`tf.ones`). Meanwhile, we initialise the 3x1 vector variable with every entry as 0 (`tf.zeros`). `tf.linalg.matvec` multiplies a matrix and a vector."
   ]
  },
  {
   "cell_type": "code",
   "execution_count": 4,
   "metadata": {},
   "outputs": [
    {
     "name": "stdout",
     "output_type": "stream",
     "text": [
      "tf.Tensor([12. 12. 12.], shape=(3,), dtype=float32)\n"
     ]
    }
   ],
   "source": [
    "weight_matrix = tf.Variable(tf.ones(shape=(3,3)))\n",
    "weight_vector = tf.Variable(tf.zeros(shape=(3,)))\n",
    "\n",
    "def affine_transformation(input_vector):\n",
    "    return tf.linalg.matvec(weight_matrix, input_vector) + weight_vector\n",
    "\n",
    "result = affine_transformation([2.,3.,7.])\n",
    "print(result)"
   ]
  },
  {
   "cell_type": "markdown",
   "metadata": {},
   "source": [
    "The following [reset function](https://www.tensorflow.org/api_docs/python/tf/keras/backend/clear_session) is often useful. It is necessary to reset the `TensorFlow` network from time to time: as we have many different small networks in one notebook and we don't want them interfering with each other, as a pre-emptive measure we will occasionally reset the computation graph. "
   ]
  },
  {
   "cell_type": "code",
   "execution_count": 5,
   "metadata": {},
   "outputs": [
    {
     "data": {
      "text/plain": [
       "<function tensorflow.python.keras.backend.clear_session()>"
      ]
     },
     "execution_count": 5,
     "metadata": {},
     "output_type": "execute_result"
    }
   ],
   "source": [
    "tf.keras.backend.clear_session"
   ]
  },
  {
   "cell_type": "markdown",
   "metadata": {},
   "source": [
    "# Training the Parameters\n",
    "\n",
    "This example shows how to optimise the parameters in your model.\n",
    "\n",
    "We first define a network that takes an input vector, multiplies it with a matrix (as defined above), and sums the elements of the resulting vector (using `tf.math.reduce_sum`). We then define a loss function as the square error. Given a specific input and output, we can calculate the loss of applying the network to the input.\n",
    "\n",
    "Next, we define an optimiser – here, we are using *stochastic gradient descent* (*SGD*) with the learning rate $0.001$. We then use this optimiser to train this network for $10$ epochs, over this single training point. This optimises the output towards the target value $20$. Printing out the results, we can see that the output gradually moves towards the target."
   ]
  },
  {
   "cell_type": "code",
   "execution_count": 6,
   "metadata": {},
   "outputs": [
    {
     "name": "stdout",
     "output_type": "stream",
     "text": [
      "tf.Tensor(29.952, shape=(), dtype=float32)\n",
      "tf.Tensor(26.190144, shape=(), dtype=float32)\n",
      "tf.Tensor(23.850271, shape=(), dtype=float32)\n",
      "tf.Tensor(22.39487, shape=(), dtype=float32)\n",
      "tf.Tensor(21.489607, shape=(), dtype=float32)\n",
      "tf.Tensor(20.926535, shape=(), dtype=float32)\n",
      "tf.Tensor(20.576305, shape=(), dtype=float32)\n",
      "tf.Tensor(20.358461, shape=(), dtype=float32)\n",
      "tf.Tensor(20.222961, shape=(), dtype=float32)\n",
      "tf.Tensor(20.138683, shape=(), dtype=float32)\n"
     ]
    }
   ],
   "source": [
    "tf.keras.backend.clear_session\n",
    "\n",
    "weight_matrix = tf.Variable(tf.ones(shape=(3,3)))\n",
    "weight_vector = tf.Variable(tf.zeros(shape=(3,)))\n",
    "\n",
    "def network(input_vector):\n",
    "    return tf.math.reduce_sum(affine_transformation(input_vector))\n",
    "\n",
    "def loss_fn(predicted, gold):\n",
    "    return tf.square(predicted - gold)\n",
    "\n",
    "input = [2.,3.,7.]\n",
    "gold_output = 20\n",
    "\n",
    "def loss():\n",
    "    return loss_fn(network(input), gold_output)\n",
    "\n",
    "opt = tf.keras.optimizers.SGD(learning_rate=1e-3)\n",
    "\n",
    "for epoch in range(10):\n",
    "    opt.minimize(loss, var_list=[weight_matrix, weight_vector])\n",
    "    print(network(input))"
   ]
  },
  {
   "cell_type": "markdown",
   "metadata": {},
   "source": [
    "**Optional**: Try changing the learning rate and the number of epochs. What results are you getting?"
   ]
  },
  {
   "cell_type": "markdown",
   "metadata": {},
   "source": [
    "# Network Layers\n",
    "\n",
    "For most cases, we don't actually need to create the trainable variables manually. Instead, the feedfoward layer is available as a pre-defined module.\n",
    "\n",
    "We can define a network as a sequence of operations, using [`tf.keras.Sequential`](https://www.tensorflow.org/api_docs/python/tf/keras/Sequential). The first operation here is a dense feedforward layer (`tf.keras.layers.Dense`), which acts like the `affine_transfomation` function we defined earlier. The second operation sums the elements of the vector – this isn't a standard operation, so we use `tf.keras.layers.Lambda` to allow a user-defined function.\n",
    "\n",
    "By default, the parameters in a layer (like [`tf.keras.layers.Dense`](https://www.tensorflow.org/api_docs/python/tf/keras/layers/Dense)) are initialised randomly."
   ]
  },
  {
   "cell_type": "code",
   "execution_count": 7,
   "metadata": {},
   "outputs": [],
   "source": [
    "model = tf.keras.Sequential([\n",
    "    tf.keras.layers.Dense(3, input_shape=(3,)),\n",
    "    tf.keras.layers.Lambda(lambda x: tf.math.reduce_sum(x, axis=1))\n",
    "])"
   ]
  },
  {
   "cell_type": "markdown",
   "metadata": {},
   "source": [
    "Note that such a model expects the input data to be given as a *minibatch* – this means that the input tensor should have an extra index, which ranges over datapoints. In our case, instead of passing a 3-dimensional input vector, we have to pass an Nx3 matrix, where N is the number of datapoints. Here, we can apply the model to a single datapoint (a 1x3 matrix):"
   ]
  },
  {
   "cell_type": "code",
   "execution_count": 8,
   "metadata": {},
   "outputs": [
    {
     "data": {
      "text/plain": [
       "array([-11.06162], dtype=float32)"
      ]
     },
     "execution_count": 8,
     "metadata": {},
     "output_type": "execute_result"
    }
   ],
   "source": [
    "model.predict(tf.constant([[2.,3.,7.]]))"
   ]
  },
  {
   "cell_type": "markdown",
   "metadata": {},
   "source": [
    "Now that we have a model defined in terms of layers, let's replace the manually created variables of the previous section."
   ]
  },
  {
   "cell_type": "code",
   "execution_count": 9,
   "metadata": {},
   "outputs": [
    {
     "name": "stdout",
     "output_type": "stream",
     "text": [
      "tf.Tensor([13.980599], shape=(1,), dtype=float32)\n",
      "tf.Tensor([16.255934], shape=(1,), dtype=float32)\n",
      "tf.Tensor([17.67119], shape=(1,), dtype=float32)\n",
      "tf.Tensor([18.551481], shape=(1,), dtype=float32)\n",
      "tf.Tensor([19.099022], shape=(1,), dtype=float32)\n",
      "tf.Tensor([19.439592], shape=(1,), dtype=float32)\n",
      "tf.Tensor([19.651424], shape=(1,), dtype=float32)\n",
      "tf.Tensor([19.783186], shape=(1,), dtype=float32)\n",
      "tf.Tensor([19.865143], shape=(1,), dtype=float32)\n",
      "tf.Tensor([19.91612], shape=(1,), dtype=float32)\n"
     ]
    }
   ],
   "source": [
    "tf.keras.backend.clear_session\n",
    "\n",
    "model = tf.keras.Sequential([\n",
    "    tf.keras.layers.Dense(3, input_shape=(3,)),\n",
    "    tf.keras.layers.Lambda(lambda x: tf.math.reduce_sum(x, axis=1))\n",
    "])\n",
    "\n",
    "def loss_fn(predicted, gold):\n",
    "    return tf.square(predicted - gold)\n",
    "\n",
    "input = tf.constant([[2.,3.,7.]])\n",
    "gold_output = 20\n",
    "\n",
    "def loss():\n",
    "    return loss_fn(model(input), gold_output)\n",
    "\n",
    "opt = tf.keras.optimizers.SGD(learning_rate=1e-3)\n",
    "\n",
    "for epoch in range(10):\n",
    "    opt.minimize(loss, var_list=model.trainable_variables)\n",
    "    print(model(input))"
   ]
  },
  {
   "cell_type": "markdown",
   "metadata": {},
   "source": [
    "In fact, for standard optimizers and loss functions, the `TensorFlow` API makes it even easier for us:"
   ]
  },
  {
   "cell_type": "code",
   "execution_count": 10,
   "metadata": {},
   "outputs": [
    {
     "name": "stdout",
     "output_type": "stream",
     "text": [
      "tf.Tensor(-0.07992649, shape=(), dtype=float32)\n",
      "tf.Tensor(7.510285, shape=(), dtype=float32)\n",
      "tf.Tensor(12.231399, shape=(), dtype=float32)\n",
      "tf.Tensor(15.16793, shape=(), dtype=float32)\n",
      "tf.Tensor(16.994453, shape=(), dtype=float32)\n",
      "tf.Tensor(18.13055, shape=(), dtype=float32)\n",
      "tf.Tensor(18.8372, shape=(), dtype=float32)\n",
      "tf.Tensor(19.27674, shape=(), dtype=float32)\n",
      "tf.Tensor(19.550133, shape=(), dtype=float32)\n",
      "tf.Tensor(19.72018, shape=(), dtype=float32)\n"
     ]
    }
   ],
   "source": [
    "tf.keras.backend.clear_session\n",
    "\n",
    "model = tf.keras.Sequential([\n",
    "    tf.keras.layers.Dense(3, input_shape=(3,)),\n",
    "    tf.keras.layers.Lambda(lambda x: tf.math.reduce_sum(x))\n",
    "])\n",
    "\n",
    "model.compile(optimizer=tf.keras.optimizers.SGD(learning_rate=1e-3), # alternatively, optimizer=`sgd`\n",
    "              loss='mean_squared_error')\n",
    "\n",
    "input = tf.constant([[2.,3.,7.]])\n",
    "gold_output = tf.constant([[20.]])\n",
    "\n",
    "for epoch in range(10):\n",
    "    model.train_on_batch(input, gold_output)\n",
    "    print(model(input))"
   ]
  },
  {
   "cell_type": "markdown",
   "metadata": {},
   "source": [
    "# Activation Functions\n",
    "\n",
    "As you saw in the previous lectures, activation functions are what gives neural networks their power to model non-linear patterns in the data. After applying an affine transformation, we then apply a non-linear activation function to each element. There are a number of different activation functions to choose from.\n",
    "\n",
    "The [sigmoid function](https://en.wikipedia.org/wiki/Logistic_function), also known as the logistic function, is the most classic non-linear activation. It transforms the value to a range between 0 and 1."
   ]
  },
  {
   "cell_type": "code",
   "execution_count": 11,
   "metadata": {},
   "outputs": [],
   "source": [
    "hidden = tf.keras.layers.Dense(100, activation='sigmoid')"
   ]
  },
  {
   "cell_type": "markdown",
   "metadata": {},
   "source": [
    "In modern networks, the [tanh function](https://en.wikipedia.org/wiki/Hyperbolic_function) is used more often. It has more flexibility, as it transforms the input value to a range between -1 and 1, and can therefore output negative values as well."
   ]
  },
  {
   "cell_type": "code",
   "execution_count": 12,
   "metadata": {},
   "outputs": [],
   "source": [
    "hidden = tf.keras.layers.Dense(100, activation='tanh')"
   ]
  },
  {
   "cell_type": "markdown",
   "metadata": {},
   "source": [
    "Another popular one is the [Rectified Linear Unit](https://en.wikipedia.org/wiki/Rectifier_(neural_networks)) function, or the ReLU. This function acts as a linear function above zero, but restricts everything below zero to 0. By doing this it also introduces non-linearity."
   ]
  },
  {
   "cell_type": "code",
   "execution_count": 13,
   "metadata": {},
   "outputs": [],
   "source": [
    "hidden = tf.keras.layers.Dense(100, activation='relu')"
   ]
  },
  {
   "cell_type": "markdown",
   "metadata": {},
   "source": [
    "The partial linear property of the ReLU can help it converge faster on some tasks, although in practice tanh may be a more robust option.\n",
    "\n",
    "Finally, for classification tasks [softmax](https://en.wikipedia.org/wiki/Softmax_function) is an important activation function. Unlike the activation functions mentioned above, it isn't applied to each element separately. It converts a vector of scores into a probability distribution: after applying the softmax, all values are between 0 and 1, and together they sum to 1. Higher scores are assigned to higher probabilities, via the formula:\n",
    "\n",
    "<center>\n",
    "$P(i) \\propto \\exp(x_i)$\n",
    "</center>\n",
    "\n",
    "Or, more explicitly:\n",
    "\n",
    "<center>\n",
    "$P(i) = \\frac{\\exp(x_i)}{\\sum_j \\exp(x_j)}$\n",
    "</center>\n",
    "\n",
    "Notice how the value of the denominator depends on all other values.\n",
    "\n",
    "The softmax is often used in the output layer of a network performing classification, in order to predict a probability distribution over all the possible classes. For example, the following model takes a 20-dimensional input, maps it to a 50-dimensional hidden layer, then maps it to a distribution over 10 output classes."
   ]
  },
  {
   "cell_type": "code",
   "execution_count": 14,
   "metadata": {},
   "outputs": [],
   "source": [
    "model = tf.keras.Sequential([\n",
    "    tf.keras.layers.Dense(50, input_shape=(20,), activation='relu'),\n",
    "    tf.keras.layers.Dense(10, activation='softmax')\n",
    "])"
   ]
  },
  {
   "cell_type": "markdown",
   "metadata": {},
   "source": [
    "# Operations and Useful Functions\n",
    "\n",
    "`TensorFlow` has corresponding versions of all the main operations you might want to use. This means you can add them into your computation graph and into your neural network. The most common operations are available in `tf`, and further operations are available in `tf.math`.\n"
   ]
  },
  {
   "cell_type": "code",
   "execution_count": 15,
   "metadata": {},
   "outputs": [
    {
     "data": {
      "text/plain": [
       "<function tensorflow.python.ops.math_ops.exp(x, name=None)>"
      ]
     },
     "execution_count": 15,
     "metadata": {},
     "output_type": "execute_result"
    }
   ],
   "source": [
    "tf.abs # absolute value\n",
    "tf.negative # computes the negative value\n",
    "tf.sign # returns 1, 0 or -1 depending on the sign of the input\n",
    "tf.math.reciprocal # reciprocal 1/x\n",
    "tf.square # return input squared\n",
    "tf.round # return rounded value\n",
    "tf.sqrt # square root\n",
    "tf.math.rsqrt # reciprocal of square root\n",
    "tf.pow # power\n",
    "tf.exp # exponential"
   ]
  },
  {
   "cell_type": "markdown",
   "metadata": {},
   "source": [
    "These operations can be applied to scalar values, but also to vectors, matrices and higher-order tensors. In the latter case, they will be applied element-wise. For example:"
   ]
  },
  {
   "cell_type": "code",
   "execution_count": 16,
   "metadata": {},
   "outputs": [
    {
     "name": "stdout",
     "output_type": "stream",
     "text": [
      "tf.Tensor([-3.2  2.7], shape=(2,), dtype=float32)\n",
      "tf.Tensor([2.25      4.4099994], shape=(2,), dtype=float32)\n"
     ]
    }
   ],
   "source": [
    "print(tf.negative([3.2,-2.7]))\n",
    "print(tf.square([1.5,-2.1]))"
   ]
  },
  {
   "cell_type": "markdown",
   "metadata": {},
   "source": [
    "Some useful operations are performed over a whole vector/matrix tensor and return a single value (e.g., you saw `tf.reduce_sum` earlier):"
   ]
  },
  {
   "cell_type": "code",
   "execution_count": 17,
   "metadata": {},
   "outputs": [
    {
     "data": {
      "text/plain": [
       "<function tensorflow.python.ops.math_ops.argmin_v2(input, axis=None, output_type=tf.int64, name=None)>"
      ]
     },
     "execution_count": 17,
     "metadata": {},
     "output_type": "execute_result"
    }
   ],
   "source": [
    "tf.reduce_sum # Add elements together\n",
    "tf.reduce_mean # Average over elements\n",
    "tf.reduce_min # Minimum value\n",
    "tf.reduce_max # Maximum value\n",
    "tf.argmax # Index of the largest value\n",
    "tf.argmin # Index of the smallest value"
   ]
  },
  {
   "cell_type": "markdown",
   "metadata": {},
   "source": [
    "# Adaptive Learning Rates\n",
    "\n",
    "Above, we used stochastic gradient descent (SGD) to train our model. This uses a fixed learning rate to update the parameters. Several optimisation algorithms are based on SGD, but adaptively adjust the learning rate (usually for each parameter separately).\n",
    "\n",
    "Different adaptive learning rate strategies are also implemented in `TensorFlow` as functions. For example:"
   ]
  },
  {
   "cell_type": "code",
   "execution_count": 18,
   "metadata": {},
   "outputs": [
    {
     "data": {
      "text/plain": [
       "tensorflow.python.keras.optimizer_v2.rmsprop.RMSprop"
      ]
     },
     "execution_count": 18,
     "metadata": {},
     "output_type": "execute_result"
    }
   ],
   "source": [
    "tf.keras.optimizers.SGD\n",
    "tf.keras.optimizers.Adadelta\n",
    "tf.keras.optimizers.Adam\n",
    "tf.keras.optimizers.RMSprop"
   ]
  },
  {
   "cell_type": "markdown",
   "metadata": {},
   "source": [
    "If you are interested in the differences between these strategies, [this blog post](http://ruder.io/optimizing-gradient-descent/) provides more details."
   ]
  },
  {
   "cell_type": "markdown",
   "metadata": {},
   "source": [
    "# Training an XOR Function\n",
    "\n",
    "[XOR](https://en.wikipedia.org/wiki/XOR_gate) is the function that takes two binary values and returns 1 only if one of them is 1 and the other 0, while returning 0 if both of them have the same value. It can be a difficult function to learn and cannot be modelled with a linear model. But let's try anyway.\n",
    "\n",
    "Our dataset consists of all the possible different states that XOR can take:"
   ]
  },
  {
   "cell_type": "code",
   "execution_count": 19,
   "metadata": {},
   "outputs": [],
   "source": [
    "xor_input = tf.constant([[0.0, 0.0], [0.0, 1.0], [1.0, 0.0], [1.0, 1.0]])\n",
    "xor_output = tf.constant([0.0, 1.0, 1.0, 0.0])"
   ]
  },
  {
   "cell_type": "markdown",
   "metadata": {},
   "source": [
    "Now we construct a linear network and optimize it on this dataset, printing out the predictions at each epoch:"
   ]
  },
  {
   "cell_type": "code",
   "execution_count": 20,
   "metadata": {},
   "outputs": [
    {
     "name": "stdout",
     "output_type": "stream",
     "text": [
      "after 10 epochs: [0.35581002 0.6750827  0.26039782 0.5796704 ]\n",
      "after 20 epochs: [0.39991125 0.60822886 0.35994172 0.56825936]\n",
      "after 30 epochs: [0.42734203 0.56292266 0.414264   0.5498446 ]\n",
      "after 40 epochs: [0.4471831  0.53621507 0.44720766 0.5362396 ]\n",
      "after 50 epochs: [0.4616045  0.5206206  0.46732858 0.52634466]\n",
      "after 60 epochs: [0.4720882  0.51157373 0.47966585 0.5191514 ]\n",
      "after 70 epochs: [0.47970936 0.50636804 0.48726356 0.5139222 ]\n",
      "after 80 epochs: [0.4852496  0.5034045  0.49196595 0.5101208 ]\n",
      "after 90 epochs: [0.48927712 0.5017416  0.49489293 0.5073574 ]\n",
      "after 100 epochs: [0.49220493 0.500827   0.49672642 0.5053485 ]\n"
     ]
    }
   ],
   "source": [
    "tf.keras.backend.clear_session\n",
    "\n",
    "linear_model = tf.keras.Sequential([\n",
    "    tf.keras.layers.Dense(1, input_shape=(2,))\n",
    "])\n",
    "\n",
    "linear_model.compile(optimizer=tf.keras.optimizers.SGD(learning_rate=0.1),\n",
    "                     loss='mean_squared_error')\n",
    "\n",
    "for epoch in range(100):\n",
    "    linear_model.train_on_batch(xor_input, xor_output)\n",
    "    if (epoch + 1) % 10 == 0:\n",
    "        print('after {} epochs:'.format(epoch+1), linear_model(xor_input).numpy().reshape((4,)))"
   ]
  },
  {
   "cell_type": "markdown",
   "metadata": {},
   "source": [
    "As you can see, it's not doing very well. Ideally, the predictions should be [0, 1, 1, 0], but in this case they are hovering around 0.5 for every input case.\n",
    "\n",
    "In order to improve this architecture, let's add some non-linear layers into our model:"
   ]
  },
  {
   "cell_type": "code",
   "execution_count": 21,
   "metadata": {},
   "outputs": [
    {
     "name": "stdout",
     "output_type": "stream",
     "text": [
      "after 10 epochs: [0.47139823 0.45598647 0.51041913 0.42328706]\n",
      "after 20 epochs: [0.44165036 0.48061252 0.52650017 0.41392648]\n",
      "after 30 epochs: [0.39927143 0.51565003 0.56666684 0.39541826]\n",
      "after 40 epochs: [0.3409256  0.5732156  0.62695277 0.36355948]\n",
      "after 50 epochs: [0.27553213 0.64435154 0.6933229  0.31727946]\n",
      "after 60 epochs: [0.21881422 0.7092482  0.7501223  0.26837218]\n",
      "after 70 epochs: [0.17686898 0.7589586  0.79270434 0.22734761]\n",
      "after 80 epochs: [0.14722893 0.79504204 0.82351184 0.19597596]\n",
      "after 90 epochs: [0.12602541 0.8214053  0.8460666  0.17232814]\n",
      "after 100 epochs: [0.11039016 0.84118086 0.8630359  0.15422985]\n"
     ]
    }
   ],
   "source": [
    "tf.keras.backend.clear_session\n",
    "\n",
    "nonlinear_model = tf.keras.Sequential([\n",
    "    tf.keras.layers.Dense(5, input_shape=(2,), activation='tanh'), # note that these settings can be changed\n",
    "    tf.keras.layers.Dense(1, activation='sigmoid')\n",
    "])\n",
    "\n",
    "nonlinear_model.compile(optimizer=tf.keras.optimizers.SGD(learning_rate=1),\n",
    "                        loss='mean_squared_error')\n",
    "\n",
    "for epoch in range(100):\n",
    "    nonlinear_model.train_on_batch(xor_input, xor_output)\n",
    "    if (epoch + 1) % 10 == 0:\n",
    "        print('after {} epochs:'.format(epoch+1), nonlinear_model(xor_input).numpy().reshape((4,)))"
   ]
  },
  {
   "cell_type": "markdown",
   "metadata": {},
   "source": [
    "This is much better. The values are much closer to [0, 1, 1, 0] than before, and they will continue improving if we train for longer. (Remember that the model is initialised randomly – if you run it a few times, you will see that the results vary with each run. Check the [documentation](https://www.tensorflow.org/tutorials/keras/save_and_load) on how you can save and restore a particular model).\n",
    "\n",
    "We also had to increase the learning rate for this network. It would still be learning with a smaller learning rate, but it would be converging very slowly. As we discussed in the lectures, learning rate is a hyperparameter that can vary quite a bit depending on the network architecture and dataset.\n",
    "\n",
    "**Optional**: Try changing various settings in the current network, e.g. *width* (number of neurons per layer), *depth* (number of layers), *activation functions* applied to each layer, and number of *epochs*. What changes do you observe?"
   ]
  },
  {
   "cell_type": "markdown",
   "metadata": {},
   "source": [
    "# XOR Classification\n",
    "\n",
    "We can also do classification with `TensorFlow`. For this, we often use the softmax activation function described above, which predicts the probability for each of the possible classes.\n",
    "\n",
    "We also have to change the loss function, as squared error is not suitable for classification. A suitable loss function is [cross entropy](https://en.wikipedia.org/wiki/Cross_entropy). Since the correct output has probability 1 for the correct class, and probability 0 for the rest, minimising cross entropy is the same as minimising the negative log probability of the correct class for each datapoint. In other words, by minimising cross entropy, we are trying to find the maximum likelihood model, which assigns high values for the correct label.\n",
    "\n",
    "We can change the XOR example above to perform classification instead. In this case, we are constructing a binary classifier – choosing between the classes of 0 and 1. The output here prints the predicted probabilities of the two classes."
   ]
  },
  {
   "cell_type": "code",
   "execution_count": 22,
   "metadata": {},
   "outputs": [
    {
     "name": "stdout",
     "output_type": "stream",
     "text": [
      "after 10 epochs:\n",
      "[[0.6297843  0.37021568]\n",
      " [0.3831553  0.6168447 ]\n",
      " [0.16950151 0.8304985 ]\n",
      " [0.70461154 0.29538846]]\n",
      "after 20 epochs:\n",
      "[[0.8047582  0.19524175]\n",
      " [0.13408594 0.86591405]\n",
      " [0.05933977 0.9406603 ]\n",
      " [0.90200806 0.09799191]]\n",
      "after 30 epochs:\n",
      "[[0.9073032  0.09269682]\n",
      " [0.05366836 0.9463316 ]\n",
      " [0.04623249 0.9537675 ]\n",
      " [0.9636653  0.0363347 ]]\n",
      "after 40 epochs:\n",
      "[[0.9432122  0.05678771]\n",
      " [0.03355972 0.9664403 ]\n",
      " [0.02279514 0.97720486]\n",
      " [0.98042744 0.01957257]]\n",
      "after 50 epochs:\n",
      "[[0.96023387 0.03976609]\n",
      " [0.01935729 0.98064274]\n",
      " [0.01464694 0.98535305]\n",
      " [0.985872   0.01412804]]\n"
     ]
    }
   ],
   "source": [
    "tf.keras.backend.clear_session\n",
    "\n",
    "nonlinear_model = tf.keras.Sequential([\n",
    "    tf.keras.layers.Dense(10, input_shape=(2,), activation='relu'),\n",
    "    tf.keras.layers.Dense(2, activation='softmax')\n",
    "])\n",
    "\n",
    "nonlinear_model.compile(optimizer=tf.keras.optimizers.SGD(learning_rate=1),\n",
    "                        loss='sparse_categorical_crossentropy')\n",
    "\n",
    "for epoch in range(50):\n",
    "    nonlinear_model.train_on_batch(xor_input, xor_output)\n",
    "    if (epoch + 1) % 10 == 0:\n",
    "        print('after {} epochs:'.format(epoch+1), nonlinear_model(xor_input).numpy(), sep='\\n')"
   ]
  },
  {
   "cell_type": "markdown",
   "metadata": {},
   "source": [
    "Let's convert these probabilities into class predictions and also report some of the more familiar [evaluation metrics](https://www.tensorflow.org/api_docs/python/tf/keras/metrics), e.g. *accuracy*:"
   ]
  },
  {
   "cell_type": "code",
   "execution_count": 23,
   "metadata": {},
   "outputs": [
    {
     "name": "stdout",
     "output_type": "stream",
     "text": [
      "\n",
      "After 10 epochs: 0 1 1 0\n",
      "1/1 - 0s - loss: 0.5110 - accuracy: 1.0000\n",
      "\n",
      "Accuracy: 1.0\n",
      "\n",
      "After 20 epochs: 0 1 1 0\n",
      "1/1 - 0s - loss: 0.4208 - accuracy: 1.0000\n",
      "\n",
      "Accuracy: 1.0\n",
      "\n",
      "After 30 epochs: 0 1 1 0\n",
      "1/1 - 0s - loss: 0.3794 - accuracy: 1.0000\n",
      "\n",
      "Accuracy: 1.0\n",
      "\n",
      "After 40 epochs: 0 1 1 0\n",
      "1/1 - 0s - loss: 0.3574 - accuracy: 1.0000\n",
      "\n",
      "Accuracy: 1.0\n",
      "\n",
      "After 50 epochs: 0 1 1 0\n",
      "1/1 - 0s - loss: 0.3463 - accuracy: 1.0000\n",
      "\n",
      "Accuracy: 1.0\n"
     ]
    }
   ],
   "source": [
    "tf.keras.backend.clear_session\n",
    "\n",
    "nonlinear_model = tf.keras.Sequential([\n",
    "    tf.keras.layers.Dense(10, input_shape=(2,), activation='relu'),\n",
    "    tf.keras.layers.Dense(2, activation='softmax')\n",
    "])\n",
    "\n",
    "nonlinear_model.compile(optimizer=tf.keras.optimizers.SGD(learning_rate=1),\n",
    "              loss=tf.keras.losses.SparseCategoricalCrossentropy(from_logits=True),\n",
    "              metrics=['accuracy'])  \n",
    "\n",
    "for epoch in range(50):\n",
    "    nonlinear_model.train_on_batch(xor_input, xor_output)\n",
    "    predictions = nonlinear_model.predict(xor_input)\n",
    "    result = tf.argmax(predictions, axis=1)\n",
    "    \n",
    "    if (epoch + 1) % 10 == 0:\n",
    "        print('\\nAfter {} epochs:'.format(epoch+1), \" \".join([str(x) for x in result.numpy()]))\n",
    "        test_loss, test_acc = nonlinear_model.evaluate(xor_input, xor_output, verbose=2)\n",
    "        print('\\nAccuracy:', test_acc)\n"
   ]
  },
  {
   "cell_type": "markdown",
   "metadata": {},
   "source": [
    "You should be able to see in this printout that the model starts off with incorrect predictions, but fairly soon learns to return the correct sequence of [0, 1, 1, 0].\n",
    "\n",
    "Finally, here is how you can print out the confusion matrix. Since we are looking into a simple case here and the predictions from above are quite accurate, there is not much to be learned from the confusion matrix at this point (but note that this functionality may come in handy later in your practical):"
   ]
  },
  {
   "cell_type": "code",
   "execution_count": 24,
   "metadata": {},
   "outputs": [
    {
     "name": "stdout",
     "output_type": "stream",
     "text": [
      "[[2 0]\n",
      " [0 2]]\n"
     ]
    }
   ],
   "source": [
    "conf_mx = tf.math.confusion_matrix(xor_output, result.numpy()).numpy()\n",
    "print(conf_mx)"
   ]
  },
  {
   "cell_type": "markdown",
   "metadata": {},
   "source": [
    "# Minibatching\n",
    "\n",
    "For the XOR data, there are only 4 datapoints. However, with realistic datasets, it is inefficient to train on the whole dataset at once, because this will require a lot of computation in order to make a single update step. \n",
    "\n",
    "Instead, we can train on a batch of data at a time. For example, here is how you can take batches of 2 datapoints for the XOR data:"
   ]
  },
  {
   "cell_type": "code",
   "execution_count": 25,
   "metadata": {},
   "outputs": [
    {
     "name": "stdout",
     "output_type": "stream",
     "text": [
      "after 10 epochs:\n",
      "[[0.53381336 0.4661867 ]\n",
      " [0.53379834 0.46620163]\n",
      " [0.07119816 0.9288019 ]\n",
      " [0.7930978  0.20690227]]\n",
      "after 20 epochs:\n",
      "[[0.6909106  0.3090894 ]\n",
      " [0.52273905 0.47726092]\n",
      " [0.05100957 0.94899035]\n",
      " [0.9567393  0.04326075]]\n",
      "after 30 epochs:\n",
      "[[0.9452122  0.05478781]\n",
      " [0.46098176 0.5390183 ]\n",
      " [0.04807882 0.95192116]\n",
      " [0.99431944 0.00568054]]\n",
      "after 40 epochs:\n",
      "[[0.96038383 0.03961613]\n",
      " [0.1029528  0.8970472 ]\n",
      " [0.00824112 0.9917589 ]\n",
      " [0.989703   0.01029698]]\n",
      "after 50 epochs:\n",
      "[[0.97878563 0.02121438]\n",
      " [0.06227695 0.93772304]\n",
      " [0.00600624 0.9939938 ]\n",
      " [0.9927821  0.00721781]]\n"
     ]
    }
   ],
   "source": [
    "tf.keras.backend.clear_session\n",
    "\n",
    "nonlinear_model = tf.keras.Sequential([\n",
    "    tf.keras.layers.Dense(10, input_shape=(2,), activation='relu'),\n",
    "    tf.keras.layers.Dense(2, activation='softmax')\n",
    "])\n",
    "\n",
    "nonlinear_model.compile(optimizer=tf.keras.optimizers.SGD(learning_rate=1),\n",
    "                        loss='sparse_categorical_crossentropy')\n",
    "\n",
    "BATCH_SIZE = 2\n",
    "\n",
    "for epoch in range(50):\n",
    "    for i in range(0,len(xor_input),BATCH_SIZE):\n",
    "        input_batch = xor_input[i:i+BATCH_SIZE]\n",
    "        output_batch = xor_output[i:i+BATCH_SIZE]\n",
    "        nonlinear_model.train_on_batch(input_batch, output_batch)\n",
    "    if (epoch + 1) % 10 == 0:\n",
    "        print('after {} epochs:'.format(epoch+1), nonlinear_model(xor_input).numpy(), sep='\\n')"
   ]
  },
  {
   "cell_type": "markdown",
   "metadata": {},
   "source": [
    "Again, this kind of functionality is built into `TensorFlow`. The following code trains the model with the given batch size and number of epochs:"
   ]
  },
  {
   "cell_type": "code",
   "execution_count": 26,
   "metadata": {},
   "outputs": [
    {
     "name": "stdout",
     "output_type": "stream",
     "text": [
      "Epoch 1/50\n",
      "2/2 [==============================] - 0s 611us/step - loss: 1.4665\n",
      "Epoch 2/50\n",
      "2/2 [==============================] - 0s 0s/step - loss: 0.9728\n",
      "Epoch 3/50\n",
      "2/2 [==============================] - 0s 0s/step - loss: 0.6987\n",
      "Epoch 4/50\n",
      "2/2 [==============================] - 0s 0s/step - loss: 0.6764\n",
      "Epoch 5/50\n",
      "2/2 [==============================] - 0s 0s/step - loss: 0.9934\n",
      "Epoch 6/50\n",
      "2/2 [==============================] - 0s 503us/step - loss: 0.7118\n",
      "Epoch 7/50\n",
      "2/2 [==============================] - 0s 1ms/step - loss: 0.6725\n",
      "Epoch 8/50\n",
      "2/2 [==============================] - 0s 500us/step - loss: 0.6822\n",
      "Epoch 9/50\n",
      "2/2 [==============================] - 0s 998us/step - loss: 0.6587\n",
      "Epoch 10/50\n",
      "2/2 [==============================] - 0s 993us/step - loss: 0.6228\n",
      "Epoch 11/50\n",
      "2/2 [==============================] - 0s 998us/step - loss: 0.5971\n",
      "Epoch 12/50\n",
      "2/2 [==============================] - 0s 998us/step - loss: 0.6274\n",
      "Epoch 13/50\n",
      "2/2 [==============================] - 0s 997us/step - loss: 0.8272\n",
      "Epoch 14/50\n",
      "2/2 [==============================] - 0s 499us/step - loss: 0.6458\n",
      "Epoch 15/50\n",
      "2/2 [==============================] - 0s 997us/step - loss: 0.5858\n",
      "Epoch 16/50\n",
      "2/2 [==============================] - 0s 499us/step - loss: 0.8405\n",
      "Epoch 17/50\n",
      "2/2 [==============================] - 0s 998us/step - loss: 0.5337\n",
      "Epoch 18/50\n",
      "2/2 [==============================] - 0s 997us/step - loss: 0.5294\n",
      "Epoch 19/50\n",
      "2/2 [==============================] - 0s 998us/step - loss: 0.6682\n",
      "Epoch 20/50\n",
      "2/2 [==============================] - 0s 509us/step - loss: 0.5275\n",
      "Epoch 21/50\n",
      "2/2 [==============================] - 0s 498us/step - loss: 0.5188\n",
      "Epoch 22/50\n",
      "2/2 [==============================] - 0s 997us/step - loss: 0.5109\n",
      "Epoch 23/50\n",
      "2/2 [==============================] - 0s 996us/step - loss: 0.5317\n",
      "Epoch 24/50\n",
      "2/2 [==============================] - 0s 1ms/step - loss: 0.6758\n",
      "Epoch 25/50\n",
      "2/2 [==============================] - 0s 498us/step - loss: 0.5112\n",
      "Epoch 26/50\n",
      "2/2 [==============================] - 0s 505us/step - loss: 0.5097\n",
      "Epoch 27/50\n",
      "2/2 [==============================] - 0s 1ms/step - loss: 0.5121\n",
      "Epoch 28/50\n",
      "2/2 [==============================] - 0s 1ms/step - loss: 0.5135\n",
      "Epoch 29/50\n",
      "2/2 [==============================] - 0s 500us/step - loss: 0.5144\n",
      "Epoch 30/50\n",
      "2/2 [==============================] - 0s 996us/step - loss: 0.6230\n",
      "Epoch 31/50\n",
      "2/2 [==============================] - 0s 997us/step - loss: 0.5958\n",
      "Epoch 32/50\n",
      "2/2 [==============================] - 0s 997us/step - loss: 0.6189\n",
      "Epoch 33/50\n",
      "2/2 [==============================] - 0s 997us/step - loss: 0.5206\n",
      "Epoch 34/50\n",
      "2/2 [==============================] - 0s 998us/step - loss: 0.5120\n",
      "Epoch 35/50\n",
      "2/2 [==============================] - 0s 990us/step - loss: 0.5092\n",
      "Epoch 36/50\n",
      "2/2 [==============================] - 0s 997us/step - loss: 0.5168\n",
      "Epoch 37/50\n",
      "2/2 [==============================] - 0s 2ms/step - loss: 0.5100\n",
      "Epoch 38/50\n",
      "2/2 [==============================] - 0s 997us/step - loss: 0.6253\n",
      "Epoch 39/50\n",
      "2/2 [==============================] - 0s 997us/step - loss: 0.5993\n",
      "Epoch 40/50\n",
      "2/2 [==============================] - 0s 492us/step - loss: 0.6057\n",
      "Epoch 41/50\n",
      "2/2 [==============================] - 0s 989us/step - loss: 0.5070\n",
      "Epoch 42/50\n",
      "2/2 [==============================] - 0s 998us/step - loss: 0.5122\n",
      "Epoch 43/50\n",
      "2/2 [==============================] - 0s 998us/step - loss: 0.6122\n",
      "Epoch 44/50\n",
      "2/2 [==============================] - 0s 998us/step - loss: 0.5126\n",
      "Epoch 45/50\n",
      "2/2 [==============================] - 0s 997us/step - loss: 0.5063\n",
      "Epoch 46/50\n",
      "2/2 [==============================] - 0s 998us/step - loss: 0.6177\n",
      "Epoch 47/50\n",
      "2/2 [==============================] - 0s 997us/step - loss: 0.5202\n",
      "Epoch 48/50\n",
      "2/2 [==============================] - 0s 996us/step - loss: 0.6013\n",
      "Epoch 49/50\n",
      "2/2 [==============================] - 0s 998us/step - loss: 0.5115\n",
      "Epoch 50/50\n",
      "2/2 [==============================] - 0s 498us/step - loss: 0.6237\n",
      "1/1 [==============================] - 0s 0s/step - loss: 0.4832\n",
      "final loss: 0.48318278789520264\n",
      "final predictions:\n",
      "[[0.71778977 0.28221023]\n",
      " [0.71778977 0.28221023]\n",
      " [0.00446118 0.9955388 ]\n",
      " [0.71778977 0.28221023]]\n"
     ]
    }
   ],
   "source": [
    "tf.keras.backend.clear_session\n",
    "\n",
    "nonlinear_model = tf.keras.Sequential([\n",
    "    tf.keras.layers.Dense(10, input_shape=(2,), activation='relu'),\n",
    "    tf.keras.layers.Dense(2, activation='softmax')\n",
    "])\n",
    "\n",
    "nonlinear_model.compile(optimizer=tf.keras.optimizers.SGD(learning_rate=1),\n",
    "                        loss='sparse_categorical_crossentropy')\n",
    "\n",
    "nonlinear_model.fit(xor_input, xor_output, batch_size=2, epochs=50)\n",
    "\n",
    "print('final loss:', nonlinear_model.evaluate(xor_input, xor_output))\n",
    "print('final predictions:', nonlinear_model.predict(xor_input), sep='\\n')"
   ]
  },
  {
   "cell_type": "markdown",
   "metadata": {},
   "source": [
    "# TensorBoard\n",
    "\n",
    "So far, you have been exploring the results using simple print out messages. However, neural networks can grow very large and complicated, and you may wish to visualise and explore various components along the way. Visualisation in this case is not only a useful method for reporting and sharing your results, but also a good way to inspect your network and debug it. \n",
    "\n",
    "[`TensorBoard`](https://www.tensorflow.org/tensorboard) provides you with all the needed visualisation functionality and allows you to:\n",
    "\n",
    "- track and visualise metrics such as loss and accuracy;\n",
    "- visualise the model graph (ops and layers);\n",
    "- view histograms of weights, biases, or other tensors as they change over time;\n",
    "- project embeddings to a lower dimensional space;\n",
    "- display images, text, and audio data;\n",
    "- profile TensorFlow programs;\n",
    "\n",
    "among other things. Moreover, you can run it in your browser or embed it directly into your notebook as the code below shows:"
   ]
  },
  {
   "cell_type": "code",
   "execution_count": 27,
   "metadata": {},
   "outputs": [],
   "source": [
    "# Load the TensorBoard notebook extension\n",
    "%load_ext tensorboard"
   ]
  },
  {
   "cell_type": "markdown",
   "metadata": {},
   "source": [
    "Since you will likely be introducing changes into your network and rerunning your code, it's important to be able to distinguish between these different runs to track the changes. Every time you run a new model, it will be stored in log files and added to your `TensorBoard`, so a good way to distinguish between various models is to add a time stamp to each of them. Let's add this functionality:"
   ]
  },
  {
   "cell_type": "code",
   "execution_count": 28,
   "metadata": {},
   "outputs": [],
   "source": [
    "import datetime"
   ]
  },
  {
   "cell_type": "markdown",
   "metadata": {},
   "source": [
    "Now, make sure you clean all the previous logs (e.g., if you've run this notebook before). You can clear any logs from previous runs by running `rm -rf ./logs/` from within your notebook folder in your terminal."
   ]
  },
  {
   "cell_type": "code",
   "execution_count": 29,
   "metadata": {},
   "outputs": [],
   "source": [
    "!rm -rf ./logs/"
   ]
  },
  {
   "cell_type": "markdown",
   "metadata": {},
   "source": [
    "Once this is done, let's train a network and store its details in the log files."
   ]
  },
  {
   "cell_type": "code",
   "execution_count": 30,
   "metadata": {
    "scrolled": false
   },
   "outputs": [
    {
     "name": "stdout",
     "output_type": "stream",
     "text": [
      "Epoch 1/50\n",
      "1/2 [==============>...............] - ETA: 0s - loss: 0.6548WARNING:tensorflow:From C:\\ProgramData\\Anaconda3\\lib\\site-packages\\tensorflow\\python\\ops\\summary_ops_v2.py:1277: stop (from tensorflow.python.eager.profiler) is deprecated and will be removed after 2020-07-01.\n",
      "Instructions for updating:\n",
      "use `tf.profiler.experimental.stop` instead.\n",
      "2/2 [==============================] - ETA: 0s - loss: 0.7765WARNING:tensorflow:Callbacks method `on_train_batch_begin` is slow compared to the batch time (batch time: 0.0012s vs `on_train_batch_begin` time: 0.0132s). Check your callbacks.\n",
      "WARNING:tensorflow:Callbacks method `on_train_batch_end` is slow compared to the batch time (batch time: 0.0012s vs `on_train_batch_end` time: 1.1088s). Check your callbacks.\n",
      "2/2 [==============================] - 1s 678ms/step - loss: 0.7765 - val_loss: 0.7431\n",
      "Epoch 2/50\n",
      "2/2 [==============================] - 0s 14ms/step - loss: 0.7946 - val_loss: 0.7611\n",
      "Epoch 3/50\n",
      "2/2 [==============================] - 0s 14ms/step - loss: 0.8758 - val_loss: 0.6751\n",
      "Epoch 4/50\n",
      "2/2 [==============================] - 0s 14ms/step - loss: 1.4182 - val_loss: 0.8297\n",
      "Epoch 5/50\n",
      "2/2 [==============================] - 0s 15ms/step - loss: 0.8763 - val_loss: 0.6954\n",
      "Epoch 6/50\n",
      "2/2 [==============================] - 0s 15ms/step - loss: 0.8097 - val_loss: 0.6951\n",
      "Epoch 7/50\n",
      "2/2 [==============================] - 0s 15ms/step - loss: 0.7470 - val_loss: 0.6917\n",
      "Epoch 8/50\n",
      "2/2 [==============================] - 0s 15ms/step - loss: 0.7314 - val_loss: 0.6908\n",
      "Epoch 9/50\n",
      "2/2 [==============================] - 0s 13ms/step - loss: 1.0662 - val_loss: 0.7317\n",
      "Epoch 10/50\n",
      "2/2 [==============================] - 0s 13ms/step - loss: 1.0743 - val_loss: 0.7424\n",
      "Epoch 11/50\n",
      "2/2 [==============================] - 0s 13ms/step - loss: 0.8076 - val_loss: 0.6969\n",
      "Epoch 12/50\n",
      "2/2 [==============================] - 0s 13ms/step - loss: 0.7554 - val_loss: 0.6932\n",
      "Epoch 13/50\n",
      "2/2 [==============================] - 0s 15ms/step - loss: 0.7260 - val_loss: 0.6931\n",
      "Epoch 14/50\n",
      "2/2 [==============================] - 0s 11ms/step - loss: 1.0133 - val_loss: 0.7214\n",
      "Epoch 15/50\n",
      "2/2 [==============================] - 0s 14ms/step - loss: 0.7617 - val_loss: 0.6954\n",
      "Epoch 16/50\n",
      "2/2 [==============================] - 0s 12ms/step - loss: 0.7331 - val_loss: 0.6939\n",
      "Epoch 17/50\n",
      "2/2 [==============================] - 0s 12ms/step - loss: 1.0097 - val_loss: 0.7199\n",
      "Epoch 18/50\n",
      "2/2 [==============================] - 0s 13ms/step - loss: 1.0517 - val_loss: 0.7383\n",
      "Epoch 19/50\n",
      "2/2 [==============================] - 0s 13ms/step - loss: 0.7598 - val_loss: 0.6953\n",
      "Epoch 20/50\n",
      "2/2 [==============================] - 0s 13ms/step - loss: 0.7188 - val_loss: 0.6934\n",
      "Epoch 21/50\n",
      "2/2 [==============================] - 0s 12ms/step - loss: 0.7111 - val_loss: 0.6933\n",
      "Epoch 22/50\n",
      "2/2 [==============================] - 0s 13ms/step - loss: 1.0157 - val_loss: 0.7209\n",
      "Epoch 23/50\n",
      "2/2 [==============================] - 0s 12ms/step - loss: 0.7311 - val_loss: 0.6945\n",
      "Epoch 24/50\n",
      "2/2 [==============================] - 0s 13ms/step - loss: 0.7241 - val_loss: 0.6932\n",
      "Epoch 25/50\n",
      "2/2 [==============================] - 0s 14ms/step - loss: 0.7158 - val_loss: 0.6932\n",
      "Epoch 26/50\n",
      "2/2 [==============================] - 0s 13ms/step - loss: 0.7106 - val_loss: 0.6931\n",
      "Epoch 27/50\n",
      "2/2 [==============================] - 0s 12ms/step - loss: 0.7069 - val_loss: 0.6931\n",
      "Epoch 28/50\n",
      "2/2 [==============================] - 0s 13ms/step - loss: 0.7036 - val_loss: 0.6931\n",
      "Epoch 29/50\n",
      "2/2 [==============================] - 0s 14ms/step - loss: 0.7012 - val_loss: 0.6931\n",
      "Epoch 30/50\n",
      "2/2 [==============================] - 0s 13ms/step - loss: 1.0151 - val_loss: 0.7213\n",
      "Epoch 31/50\n",
      "2/2 [==============================] - 0s 12ms/step - loss: 1.0536 - val_loss: 0.7388\n",
      "Epoch 32/50\n",
      "2/2 [==============================] - 0s 14ms/step - loss: 0.7290 - val_loss: 0.6961\n",
      "Epoch 33/50\n",
      "2/2 [==============================] - 0s 14ms/step - loss: 1.0165 - val_loss: 0.7253\n",
      "Epoch 34/50\n",
      "2/2 [==============================] - 0s 13ms/step - loss: 0.7287 - val_loss: 0.6956\n",
      "Epoch 35/50\n",
      "2/2 [==============================] - 0s 12ms/step - loss: 1.0141 - val_loss: 0.7246\n",
      "Epoch 36/50\n",
      "2/2 [==============================] - 0s 13ms/step - loss: 0.7189 - val_loss: 0.6954\n",
      "Epoch 37/50\n",
      "2/2 [==============================] - 0s 14ms/step - loss: 0.6998 - val_loss: 0.6933\n",
      "Epoch 38/50\n",
      "2/2 [==============================] - 0s 13ms/step - loss: 0.7064 - val_loss: 0.6932\n",
      "Epoch 39/50\n",
      "2/2 [==============================] - 0s 11ms/step - loss: 0.7032 - val_loss: 0.6932\n",
      "Epoch 40/50\n",
      "2/2 [==============================] - 0s 14ms/step - loss: 0.6976 - val_loss: 0.6932\n",
      "Epoch 41/50\n",
      "2/2 [==============================] - 0s 13ms/step - loss: 1.0058 - val_loss: 0.7196\n",
      "Epoch 42/50\n",
      "2/2 [==============================] - 0s 12ms/step - loss: 1.0497 - val_loss: 0.7377\n",
      "Epoch 43/50\n",
      "2/2 [==============================] - 0s 13ms/step - loss: 0.9928 - val_loss: 0.7019\n",
      "Epoch 44/50\n",
      "2/2 [==============================] - 0s 14ms/step - loss: 0.7068 - val_loss: 0.6938\n",
      "Epoch 45/50\n",
      "2/2 [==============================] - 0s 13ms/step - loss: 0.9993 - val_loss: 0.7172\n",
      "Epoch 46/50\n",
      "2/2 [==============================] - 0s 12ms/step - loss: 0.7144 - val_loss: 0.6945\n",
      "Epoch 47/50\n",
      "2/2 [==============================] - 0s 13ms/step - loss: 0.6976 - val_loss: 0.6932\n",
      "Epoch 48/50\n",
      "2/2 [==============================] - 0s 14ms/step - loss: 0.6958 - val_loss: 0.6931\n",
      "Epoch 49/50\n",
      "2/2 [==============================] - 0s 14ms/step - loss: 0.7003 - val_loss: 0.6931\n",
      "Epoch 50/50\n",
      "2/2 [==============================] - 0s 13ms/step - loss: 0.6951 - val_loss: 0.6932\n",
      "1/1 [==============================] - 0s 0s/step - loss: 0.6932\n",
      "final loss: 0.6931533813476562\n",
      "final predictions:\n",
      "[[0.5016789  0.4983211 ]\n",
      " [0.5020522  0.49794787]\n",
      " [0.50181705 0.49818292]\n",
      " [0.50219303 0.49780697]]\n"
     ]
    }
   ],
   "source": [
    "tf.keras.backend.clear_session\n",
    "\n",
    "nonlinear_model = tf.keras.Sequential([\n",
    "    tf.keras.layers.Dense(10, input_shape=(2,), activation='tanh'),\n",
    "    tf.keras.layers.Dense(2, activation='softmax')\n",
    "])\n",
    "\n",
    "nonlinear_model.compile(optimizer=tf.keras.optimizers.SGD(learning_rate=1),\n",
    "                        loss='sparse_categorical_crossentropy')\n",
    "\n",
    "log_dir = \"logs/fit/\" + datetime.datetime.now().strftime(\"%Y%m%d-%H%M%S\")\n",
    "tensorboard_callback = tf.keras.callbacks.TensorBoard(log_dir=log_dir, histogram_freq=1)\n",
    "\n",
    "nonlinear_model.fit(xor_input, xor_output, \n",
    "                    batch_size=2, epochs=50, \n",
    "                    validation_data=(xor_input, xor_output),\n",
    "                    callbacks=[tensorboard_callback])\n",
    "\n",
    "print('final loss:', nonlinear_model.evaluate(xor_input, xor_output))\n",
    "print('final predictions:', nonlinear_model.predict(xor_input), sep='\\n')"
   ]
  },
  {
   "cell_type": "markdown",
   "metadata": {},
   "source": [
    "And now you can explore your model in `TensorBoard`:"
   ]
  },
  {
   "cell_type": "code",
   "execution_count": 31,
   "metadata": {
    "scrolled": true
   },
   "outputs": [],
   "source": [
    "# %tensorboard --logdir logs/fit"
   ]
  },
  {
   "cell_type": "code",
   "execution_count": 32,
   "metadata": {},
   "outputs": [],
   "source": [
    "# !kill 2096"
   ]
  },
  {
   "cell_type": "markdown",
   "metadata": {},
   "source": [
    "You can explore both the results (e.g., learning curves) under the `Scalars` tab and the network architecture itself under the `Graphs` tab. All visualisations are interactive – note that you can scroll in on the network components in the `Graph` visualisation and double-click on the \"+\" sign in the upper right corner of any component to track operations, weights, etc.\n",
    "\n",
    "A brief overview of the dashboards from [`TensorBoard` documentation](https://www.tensorflow.org/tensorboard/get_started):\n",
    "\n",
    "- The `Scalars` dashboard shows how the loss and metrics change with every epoch. You can use it to also track training speed, learning rate, and other scalar values.\n",
    "- The `Graphs` dashboard helps you visualise your model. In this case, the Keras graph of layers is shown which can help you ensure it is built correctly.\n",
    "- The `Distributions` and `Histograms` dashboards show the distribution of a Tensor over time. This can be useful to visualize weights and biases and verify that they are changing in an expected way.\n",
    "\n",
    "There are additional `TensorBoard` plugins, which are automatically enabled when you log other types of data (note, it is not applicable to this notebook, as you are not working with any other types of data here). For example, the Keras `TensorBoard` callback lets you log images and embeddings as well. You can see what other plugins are available in `TensorBoard` by clicking on the \"inactive\" dropdown towards the top right.\n",
    "\n",
    "\n",
    "# Keeping track of the history\n",
    "\n",
    "There are other ways to get more information and description of your model, which are useful when you introduce more complexity to the model and would like to keep track of the changes. We'll summarise them in this section."
   ]
  },
  {
   "cell_type": "code",
   "execution_count": 33,
   "metadata": {},
   "outputs": [],
   "source": [
    "tf.keras.backend.clear_session\n",
    "\n",
    "nonlinear_model = tf.keras.Sequential([\n",
    "    tf.keras.layers.Dense(10, input_shape=(2,), activation='relu'),\n",
    "    tf.keras.layers.Dense(2, activation='softmax')\n",
    "])"
   ]
  },
  {
   "cell_type": "markdown",
   "metadata": {},
   "source": [
    "For instance, here is how you can return the information on the networks' layers and their types:"
   ]
  },
  {
   "cell_type": "code",
   "execution_count": 34,
   "metadata": {},
   "outputs": [
    {
     "data": {
      "text/plain": [
       "[<tensorflow.python.keras.layers.core.Dense at 0x1696989ffa0>,\n",
       " <tensorflow.python.keras.layers.core.Dense at 0x1696b12e4f0>]"
      ]
     },
     "execution_count": 34,
     "metadata": {},
     "output_type": "execute_result"
    }
   ],
   "source": [
    "nonlinear_model.layers"
   ]
  },
  {
   "cell_type": "markdown",
   "metadata": {},
   "source": [
    "And here is how you can get a concise summary of the network layers (note that the first dimension in the output shape column is specified as `None` – this is to denote that this dimension is variable as it depends on the batch size):"
   ]
  },
  {
   "cell_type": "code",
   "execution_count": 35,
   "metadata": {},
   "outputs": [
    {
     "name": "stdout",
     "output_type": "stream",
     "text": [
      "Model: \"sequential_11\"\n",
      "_________________________________________________________________\n",
      "Layer (type)                 Output Shape              Param #   \n",
      "=================================================================\n",
      "dense_21 (Dense)             (None, 10)                30        \n",
      "_________________________________________________________________\n",
      "dense_22 (Dense)             (None, 2)                 22        \n",
      "=================================================================\n",
      "Total params: 52\n",
      "Trainable params: 52\n",
      "Non-trainable params: 0\n",
      "_________________________________________________________________\n"
     ]
    }
   ],
   "source": [
    "nonlinear_model.summary()"
   ]
  },
  {
   "cell_type": "markdown",
   "metadata": {},
   "source": [
    "Finally, you can also plot tje model summary like so:"
   ]
  },
  {
   "cell_type": "code",
   "execution_count": 36,
   "metadata": {},
   "outputs": [
    {
     "name": "stdout",
     "output_type": "stream",
     "text": [
      "('Failed to import pydot. You must `pip install pydot` and install graphviz (https://graphviz.gitlab.io/download/), ', 'for `pydotprint` to work.')\n"
     ]
    }
   ],
   "source": [
    "tf.keras.utils.plot_model(nonlinear_model, show_shapes=True)"
   ]
  },
  {
   "cell_type": "markdown",
   "metadata": {},
   "source": [
    "Below are a number of ways to extract (and store) the information on individual layers, as well as on weights and biases in the network:"
   ]
  },
  {
   "cell_type": "code",
   "execution_count": 37,
   "metadata": {},
   "outputs": [
    {
     "data": {
      "text/plain": [
       "'dense_22'"
      ]
     },
     "execution_count": 37,
     "metadata": {},
     "output_type": "execute_result"
    }
   ],
   "source": [
    "hidden1 = nonlinear_model.layers[1]\n",
    "hidden1.name"
   ]
  },
  {
   "cell_type": "code",
   "execution_count": 38,
   "metadata": {},
   "outputs": [
    {
     "data": {
      "text/plain": [
       "True"
      ]
     },
     "execution_count": 38,
     "metadata": {},
     "output_type": "execute_result"
    }
   ],
   "source": [
    "nonlinear_model.get_layer(hidden1.name) is hidden1"
   ]
  },
  {
   "cell_type": "code",
   "execution_count": 39,
   "metadata": {},
   "outputs": [],
   "source": [
    "weights, biases = hidden1.get_weights()"
   ]
  },
  {
   "cell_type": "code",
   "execution_count": 40,
   "metadata": {},
   "outputs": [
    {
     "data": {
      "text/plain": [
       "array([[-0.12692726,  0.11129361],\n",
       "       [ 0.6228737 ,  0.52463907],\n",
       "       [ 0.6825593 , -0.36063135],\n",
       "       [-0.45261112, -0.35997775],\n",
       "       [-0.2731977 , -0.5743867 ],\n",
       "       [ 0.67141527, -0.03819197],\n",
       "       [-0.46903777,  0.24263096],\n",
       "       [ 0.40283638, -0.15235543],\n",
       "       [-0.10941458,  0.26853138],\n",
       "       [ 0.52686566,  0.3811502 ]], dtype=float32)"
      ]
     },
     "execution_count": 40,
     "metadata": {},
     "output_type": "execute_result"
    }
   ],
   "source": [
    "weights"
   ]
  },
  {
   "cell_type": "code",
   "execution_count": 41,
   "metadata": {},
   "outputs": [
    {
     "data": {
      "text/plain": [
       "(10, 2)"
      ]
     },
     "execution_count": 41,
     "metadata": {},
     "output_type": "execute_result"
    }
   ],
   "source": [
    "weights.shape"
   ]
  },
  {
   "cell_type": "code",
   "execution_count": 42,
   "metadata": {},
   "outputs": [
    {
     "data": {
      "text/plain": [
       "array([0., 0.], dtype=float32)"
      ]
     },
     "execution_count": 42,
     "metadata": {},
     "output_type": "execute_result"
    }
   ],
   "source": [
    "biases"
   ]
  },
  {
   "cell_type": "code",
   "execution_count": 43,
   "metadata": {},
   "outputs": [
    {
     "data": {
      "text/plain": [
       "(2,)"
      ]
     },
     "execution_count": 43,
     "metadata": {},
     "output_type": "execute_result"
    }
   ],
   "source": [
    "biases.shape"
   ]
  },
  {
   "cell_type": "markdown",
   "metadata": {},
   "source": [
    "Now let's train the model and track the changes in the loss and accuracy on the training and validation data:"
   ]
  },
  {
   "cell_type": "code",
   "execution_count": 44,
   "metadata": {},
   "outputs": [],
   "source": [
    "nonlinear_model.compile(optimizer=tf.keras.optimizers.SGD(learning_rate=1),\n",
    "                        loss='sparse_categorical_crossentropy',\n",
    "                       metrics = ['accuracy'])"
   ]
  },
  {
   "cell_type": "code",
   "execution_count": 45,
   "metadata": {},
   "outputs": [
    {
     "name": "stdout",
     "output_type": "stream",
     "text": [
      "Epoch 1/50\n",
      "2/2 [==============================] - 0s 47ms/step - loss: 0.9230 - accuracy: 0.5000 - val_loss: 0.6374 - val_accuracy: 0.7500\n",
      "Epoch 2/50\n",
      "2/2 [==============================] - 0s 12ms/step - loss: 0.6399 - accuracy: 0.5000 - val_loss: 0.5461 - val_accuracy: 1.0000\n",
      "Epoch 3/50\n",
      "2/2 [==============================] - 0s 8ms/step - loss: 0.8700 - accuracy: 0.5000 - val_loss: 0.7640 - val_accuracy: 0.5000\n",
      "Epoch 4/50\n",
      "2/2 [==============================] - 0s 8ms/step - loss: 0.7342 - accuracy: 0.5000 - val_loss: 0.5848 - val_accuracy: 0.7500\n",
      "Epoch 5/50\n",
      "2/2 [==============================] - 0s 9ms/step - loss: 0.8733 - accuracy: 0.5000 - val_loss: 0.6586 - val_accuracy: 0.5000\n",
      "Epoch 6/50\n",
      "2/2 [==============================] - 0s 8ms/step - loss: 0.6055 - accuracy: 0.7500 - val_loss: 0.5572 - val_accuracy: 1.0000\n",
      "Epoch 7/50\n",
      "2/2 [==============================] - 0s 8ms/step - loss: 0.9071 - accuracy: 0.5000 - val_loss: 0.7012 - val_accuracy: 0.5000\n",
      "Epoch 8/50\n",
      "2/2 [==============================] - 0s 8ms/step - loss: 0.9773 - accuracy: 0.0000e+00 - val_loss: 0.5427 - val_accuracy: 0.7500\n",
      "Epoch 9/50\n",
      "2/2 [==============================] - 0s 8ms/step - loss: 0.5705 - accuracy: 0.7500 - val_loss: 0.5133 - val_accuracy: 0.7500\n",
      "Epoch 10/50\n",
      "2/2 [==============================] - 0s 8ms/step - loss: 0.5325 - accuracy: 0.7500 - val_loss: 0.5547 - val_accuracy: 0.5000\n",
      "Epoch 11/50\n",
      "2/2 [==============================] - 0s 9ms/step - loss: 0.9229 - accuracy: 0.2500 - val_loss: 0.5348 - val_accuracy: 0.5000\n",
      "Epoch 12/50\n",
      "2/2 [==============================] - 0s 8ms/step - loss: 0.6828 - accuracy: 0.5000 - val_loss: 0.4889 - val_accuracy: 0.7500\n",
      "Epoch 13/50\n",
      "2/2 [==============================] - 0s 8ms/step - loss: 0.5171 - accuracy: 0.7500 - val_loss: 0.4917 - val_accuracy: 0.7500\n",
      "Epoch 14/50\n",
      "2/2 [==============================] - 0s 7ms/step - loss: 0.5225 - accuracy: 0.7500 - val_loss: 0.5013 - val_accuracy: 0.7500\n",
      "Epoch 15/50\n",
      "2/2 [==============================] - 0s 9ms/step - loss: 0.6373 - accuracy: 0.7500 - val_loss: 0.4876 - val_accuracy: 0.7500\n",
      "Epoch 16/50\n",
      "2/2 [==============================] - 0s 10ms/step - loss: 0.6291 - accuracy: 0.7500 - val_loss: 0.4875 - val_accuracy: 0.7500\n",
      "Epoch 17/50\n",
      "2/2 [==============================] - 0s 12ms/step - loss: 0.6332 - accuracy: 0.2500 - val_loss: 0.4855 - val_accuracy: 0.7500\n",
      "Epoch 18/50\n",
      "2/2 [==============================] - 0s 9ms/step - loss: 0.5192 - accuracy: 0.7500 - val_loss: 0.4885 - val_accuracy: 0.7500\n",
      "Epoch 19/50\n",
      "2/2 [==============================] - 0s 8ms/step - loss: 0.6614 - accuracy: 0.7500 - val_loss: 0.4868 - val_accuracy: 0.7500\n",
      "Epoch 20/50\n",
      "2/2 [==============================] - 0s 8ms/step - loss: 0.5153 - accuracy: 0.7500 - val_loss: 0.4865 - val_accuracy: 0.7500\n",
      "Epoch 21/50\n",
      "2/2 [==============================] - 0s 8ms/step - loss: 0.5081 - accuracy: 0.7500 - val_loss: 0.4810 - val_accuracy: 0.7500\n",
      "Epoch 22/50\n",
      "2/2 [==============================] - 0s 8ms/step - loss: 0.5128 - accuracy: 0.7500 - val_loss: 0.4824 - val_accuracy: 0.7500\n",
      "Epoch 23/50\n",
      "2/2 [==============================] - 0s 8ms/step - loss: 0.5076 - accuracy: 0.7500 - val_loss: 0.4802 - val_accuracy: 0.7500\n",
      "Epoch 24/50\n",
      "2/2 [==============================] - 0s 8ms/step - loss: 0.6202 - accuracy: 0.7500 - val_loss: 0.4887 - val_accuracy: 0.7500\n",
      "Epoch 25/50\n",
      "2/2 [==============================] - 0s 7ms/step - loss: 0.6185 - accuracy: 0.7500 - val_loss: 0.4958 - val_accuracy: 0.7500\n",
      "Epoch 26/50\n",
      "2/2 [==============================] - 0s 8ms/step - loss: 0.5278 - accuracy: 0.7500 - val_loss: 0.4798 - val_accuracy: 0.7500\n",
      "Epoch 27/50\n",
      "2/2 [==============================] - 0s 8ms/step - loss: 0.5121 - accuracy: 0.7500 - val_loss: 0.4802 - val_accuracy: 0.7500\n",
      "Epoch 28/50\n",
      "2/2 [==============================] - 0s 8ms/step - loss: 0.5130 - accuracy: 0.7500 - val_loss: 0.4803 - val_accuracy: 0.7500\n",
      "Epoch 29/50\n",
      "2/2 [==============================] - 0s 8ms/step - loss: 0.5134 - accuracy: 0.7500 - val_loss: 0.4803 - val_accuracy: 0.7500\n",
      "Epoch 30/50\n",
      "2/2 [==============================] - 0s 8ms/step - loss: 0.5136 - accuracy: 0.7500 - val_loss: 0.4803 - val_accuracy: 0.7500\n",
      "Epoch 31/50\n",
      "2/2 [==============================] - 0s 8ms/step - loss: 0.5139 - accuracy: 0.7500 - val_loss: 0.4791 - val_accuracy: 0.7500\n",
      "Epoch 32/50\n",
      "2/2 [==============================] - 0s 8ms/step - loss: 0.5075 - accuracy: 0.7500 - val_loss: 0.4788 - val_accuracy: 0.7500\n",
      "Epoch 33/50\n",
      "2/2 [==============================] - 0s 7ms/step - loss: 0.5122 - accuracy: 0.7500 - val_loss: 0.4797 - val_accuracy: 0.7500\n",
      "Epoch 34/50\n",
      "2/2 [==============================] - 0s 8ms/step - loss: 0.5068 - accuracy: 0.7500 - val_loss: 0.4786 - val_accuracy: 0.7500\n",
      "Epoch 35/50\n",
      "2/2 [==============================] - 0s 9ms/step - loss: 0.6007 - accuracy: 0.7500 - val_loss: 0.4796 - val_accuracy: 0.7500\n",
      "Epoch 36/50\n",
      "2/2 [==============================] - 0s 8ms/step - loss: 0.5066 - accuracy: 0.7500 - val_loss: 0.4784 - val_accuracy: 0.7500\n",
      "Epoch 37/50\n",
      "2/2 [==============================] - 0s 8ms/step - loss: 0.5097 - accuracy: 0.7500 - val_loss: 0.4790 - val_accuracy: 0.7500\n",
      "Epoch 38/50\n",
      "2/2 [==============================] - 0s 8ms/step - loss: 0.5117 - accuracy: 0.7500 - val_loss: 0.4794 - val_accuracy: 0.7500\n",
      "Epoch 39/50\n",
      "2/2 [==============================] - 0s 9ms/step - loss: 0.5133 - accuracy: 0.7500 - val_loss: 0.4788 - val_accuracy: 0.7500\n",
      "Epoch 40/50\n",
      "2/2 [==============================] - 0s 7ms/step - loss: 0.5071 - accuracy: 0.7500 - val_loss: 0.4783 - val_accuracy: 0.7500\n",
      "Epoch 41/50\n",
      "2/2 [==============================] - 0s 7ms/step - loss: 0.5100 - accuracy: 0.7500 - val_loss: 0.4789 - val_accuracy: 0.7500\n",
      "Epoch 42/50\n",
      "2/2 [==============================] - 0s 7ms/step - loss: 0.5118 - accuracy: 0.7500 - val_loss: 0.4793 - val_accuracy: 0.7500\n",
      "Epoch 43/50\n",
      "2/2 [==============================] - 0s 7ms/step - loss: 0.5127 - accuracy: 0.7500 - val_loss: 0.4795 - val_accuracy: 0.7500\n",
      "Epoch 44/50\n",
      "2/2 [==============================] - 0s 7ms/step - loss: 0.6140 - accuracy: 0.7500 - val_loss: 0.4891 - val_accuracy: 0.7500\n",
      "Epoch 45/50\n",
      "2/2 [==============================] - 0s 7ms/step - loss: 0.5228 - accuracy: 0.7500 - val_loss: 0.4782 - val_accuracy: 0.7500\n",
      "Epoch 46/50\n",
      "2/2 [==============================] - 0s 7ms/step - loss: 0.5101 - accuracy: 0.7500 - val_loss: 0.4788 - val_accuracy: 0.7500\n",
      "Epoch 47/50\n",
      "2/2 [==============================] - 0s 7ms/step - loss: 0.5128 - accuracy: 0.7500 - val_loss: 0.4787 - val_accuracy: 0.7500\n",
      "Epoch 48/50\n",
      "2/2 [==============================] - 0s 7ms/step - loss: 0.6187 - accuracy: 0.2500 - val_loss: 0.4846 - val_accuracy: 0.7500\n",
      "Epoch 49/50\n",
      "2/2 [==============================] - 0s 7ms/step - loss: 0.5207 - accuracy: 0.7500 - val_loss: 0.4813 - val_accuracy: 0.7500\n",
      "Epoch 50/50\n",
      "2/2 [==============================] - 0s 7ms/step - loss: 0.5929 - accuracy: 0.7500 - val_loss: 0.4780 - val_accuracy: 0.7500\n"
     ]
    }
   ],
   "source": [
    "history = nonlinear_model.fit(xor_input, xor_output, batch_size=2, epochs=50,\n",
    "                    validation_data=(xor_input, xor_output))\n"
   ]
  },
  {
   "cell_type": "code",
   "execution_count": 46,
   "metadata": {},
   "outputs": [
    {
     "data": {
      "text/plain": [
       "{'verbose': 1, 'epochs': 50, 'steps': 2}"
      ]
     },
     "execution_count": 46,
     "metadata": {},
     "output_type": "execute_result"
    }
   ],
   "source": [
    "history.params"
   ]
  },
  {
   "cell_type": "code",
   "execution_count": 47,
   "metadata": {},
   "outputs": [
    {
     "name": "stdout",
     "output_type": "stream",
     "text": [
      "[0, 1, 2, 3, 4, 5, 6, 7, 8, 9, 10, 11, 12, 13, 14, 15, 16, 17, 18, 19, 20, 21, 22, 23, 24, 25, 26, 27, 28, 29, 30, 31, 32, 33, 34, 35, 36, 37, 38, 39, 40, 41, 42, 43, 44, 45, 46, 47, 48, 49]\n"
     ]
    }
   ],
   "source": [
    "print(history.epoch)"
   ]
  },
  {
   "cell_type": "code",
   "execution_count": 48,
   "metadata": {},
   "outputs": [
    {
     "data": {
      "text/plain": [
       "dict_keys(['loss', 'accuracy', 'val_loss', 'val_accuracy'])"
      ]
     },
     "execution_count": 48,
     "metadata": {},
     "output_type": "execute_result"
    }
   ],
   "source": [
    "history.history.keys()"
   ]
  },
  {
   "cell_type": "markdown",
   "metadata": {},
   "source": [
    "Finally, let's plot the changes across all epochs:"
   ]
  },
  {
   "cell_type": "code",
   "execution_count": 49,
   "metadata": {},
   "outputs": [
    {
     "data": {
      "image/png": "[encoded data removed]",
      "text/plain": [
       "<Figure size 576x360 with 1 Axes>"
      ]
     },
     "metadata": {
      "needs_background": "light"
     },
     "output_type": "display_data"
    }
   ],
   "source": [
    "import pandas as pd\n",
    "\n",
    "pd.DataFrame(history.history).plot(figsize=(8, 5))\n",
    "plt.grid(True)\n",
    "plt.gca().set_ylim(0, 1)\n",
    "plt.show()"
   ]
  },
  {
   "cell_type": "markdown",
   "metadata": {},
   "source": [
    "# Case of regression\n",
    "\n",
    "Finally, you can address not only classification but also regression tasks with `TensorFlow`. Let's look at a short example here.\n",
    "\n",
    "In Practical 1 you have been using a custom version of the California housing dataset (refer to the Practical 1 to see what differences were introduced in the original data). The original version is [accessible via `sklearn`](https://scikit-learn.org/stable/modules/generated/sklearn.datasets.fetch_california_housing.html), and the code below shows how to access a dataset from `sklearn` (in fact, `sklearn` provides access to a number of useful ML datasets, so take a look at the [documentation](https://scikit-learn.org/stable/datasets/index.html)):"
   ]
  },
  {
   "cell_type": "code",
   "execution_count": 50,
   "metadata": {},
   "outputs": [],
   "source": [
    "np.random.seed(42)\n",
    "tf.random.set_seed(42)\n",
    "from sklearn.datasets import fetch_california_housing\n",
    "\n",
    "housing = fetch_california_housing()"
   ]
  },
  {
   "cell_type": "markdown",
   "metadata": {},
   "source": [
    "Now let't split the dataset into training, validation, and test sets. Note that you can access the data from the dataset with `housing.data`, and the labels with `housing.target`:"
   ]
  },
  {
   "cell_type": "code",
   "execution_count": 51,
   "metadata": {},
   "outputs": [],
   "source": [
    "from sklearn.model_selection import train_test_split\n",
    "\n",
    "X_train_full, X_test, y_train_full, y_test = train_test_split(housing.data, housing.target, random_state=42)\n",
    "X_train, X_valid, y_train, y_valid = train_test_split(X_train_full, y_train_full, random_state=42)"
   ]
  },
  {
   "cell_type": "markdown",
   "metadata": {},
   "source": [
    "And scale the data using standardisation:"
   ]
  },
  {
   "cell_type": "code",
   "execution_count": 52,
   "metadata": {},
   "outputs": [],
   "source": [
    "from sklearn.preprocessing import StandardScaler\n",
    "\n",
    "scaler = StandardScaler()\n",
    "X_train = scaler.fit_transform(X_train)\n",
    "X_valid = scaler.transform(X_valid)\n",
    "X_test = scaler.transform(X_test)"
   ]
  },
  {
   "cell_type": "markdown",
   "metadata": {},
   "source": [
    "The code below shows to you how to implement a regression model using `TensorFlow`. It is quite similar to the code for classification with minor difference: the loss function that you use here is mean squared error, and the output is a single predicted value thus the dimensionality of the output layer."
   ]
  },
  {
   "cell_type": "code",
   "execution_count": 53,
   "metadata": {},
   "outputs": [
    {
     "name": "stdout",
     "output_type": "stream",
     "text": [
      "Epoch 1/20\n",
      "363/363 [==============================] - 0s 925us/step - loss: 1.6419 - val_loss: 0.8560\n",
      "Epoch 2/20\n",
      "363/363 [==============================] - 0s 745us/step - loss: 0.7047 - val_loss: 0.6531\n",
      "Epoch 3/20\n",
      "363/363 [==============================] - 0s 779us/step - loss: 0.6345 - val_loss: 0.6099\n",
      "Epoch 4/20\n",
      "363/363 [==============================] - 0s 759us/step - loss: 0.5977 - val_loss: 0.5658\n",
      "Epoch 5/20\n",
      "363/363 [==============================] - 0s 724us/step - loss: 0.5706 - val_loss: 0.5355\n",
      "Epoch 6/20\n",
      "363/363 [==============================] - 0s 822us/step - loss: 0.5472 - val_loss: 0.5173\n",
      "Epoch 7/20\n",
      "363/363 [==============================] - 0s 764us/step - loss: 0.5288 - val_loss: 0.5081\n",
      "Epoch 8/20\n",
      "363/363 [==============================] - 0s 750us/step - loss: 0.5130 - val_loss: 0.4799\n",
      "Epoch 9/20\n",
      "363/363 [==============================] - 0s 761us/step - loss: 0.4992 - val_loss: 0.4690\n",
      "Epoch 10/20\n",
      "363/363 [==============================] - 0s 781us/step - loss: 0.4875 - val_loss: 0.4656\n",
      "Epoch 11/20\n",
      "363/363 [==============================] - 0s 815us/step - loss: 0.4777 - val_loss: 0.4482\n",
      "Epoch 12/20\n",
      "363/363 [==============================] - 0s 782us/step - loss: 0.4688 - val_loss: 0.4479\n",
      "Epoch 13/20\n",
      "363/363 [==============================] - 0s 739us/step - loss: 0.4615 - val_loss: 0.4296\n",
      "Epoch 14/20\n",
      "363/363 [==============================] - 0s 821us/step - loss: 0.4547 - val_loss: 0.4233\n",
      "Epoch 15/20\n",
      "363/363 [==============================] - 0s 773us/step - loss: 0.4488 - val_loss: 0.4176\n",
      "Epoch 16/20\n",
      "363/363 [==============================] - 0s 729us/step - loss: 0.4435 - val_loss: 0.4123\n",
      "Epoch 17/20\n",
      "363/363 [==============================] - 0s 805us/step - loss: 0.4389 - val_loss: 0.4071\n",
      "Epoch 18/20\n",
      "363/363 [==============================] - 0s 756us/step - loss: 0.4347 - val_loss: 0.4037\n",
      "Epoch 19/20\n",
      "363/363 [==============================] - 0s 772us/step - loss: 0.4306 - val_loss: 0.4000\n",
      "Epoch 20/20\n",
      "363/363 [==============================] - 0s 733us/step - loss: 0.4273 - val_loss: 0.3969\n",
      "162/162 [==============================] - 0s 516us/step - loss: 0.4212\n"
     ]
    }
   ],
   "source": [
    "reg_model = tf.keras.models.Sequential([\n",
    "    tf.keras.layers.Dense(30, activation=\"relu\", input_shape=X_train.shape[1:]),\n",
    "    tf.keras.layers.Dense(1)\n",
    "])\n",
    "\n",
    "reg_model.compile(loss=\"mean_squared_error\", optimizer=tf.keras.optimizers.SGD(lr=1e-3))\n",
    "history = reg_model.fit(X_train, y_train, epochs=20, validation_data=(X_valid, y_valid))\n",
    "mse_test = reg_model.evaluate(X_test, y_test)"
   ]
  },
  {
   "cell_type": "markdown",
   "metadata": {},
   "source": [
    "Now let's plot the results:"
   ]
  },
  {
   "cell_type": "code",
   "execution_count": 54,
   "metadata": {},
   "outputs": [
    {
     "data": {
      "image/png": "[encoded data removed]",
      "text/plain": [
       "<Figure size 432x288 with 1 Axes>"
      ]
     },
     "metadata": {
      "needs_background": "light"
     },
     "output_type": "display_data"
    }
   ],
   "source": [
    "plt.plot(pd.DataFrame(history.history))\n",
    "plt.grid(True)\n",
    "plt.gca().set_ylim(0, 1)\n",
    "plt.show()"
   ]
  },
  {
   "cell_type": "markdown",
   "metadata": {},
   "source": [
    "Finally, you can also explore model's predictions on some selected datapoints and compare them to the true values for these datapoints:"
   ]
  },
  {
   "cell_type": "code",
   "execution_count": 55,
   "metadata": {},
   "outputs": [
    {
     "data": {
      "text/plain": [
       "array([[0.3885664],\n",
       "       [1.6792021],\n",
       "       [3.1022797]], dtype=float32)"
      ]
     },
     "execution_count": 55,
     "metadata": {},
     "output_type": "execute_result"
    }
   ],
   "source": [
    "X_new = X_test[:3]\n",
    "y_pred = reg_model.predict(X_new)\n",
    "\n",
    "y_pred"
   ]
  },
  {
   "cell_type": "code",
   "execution_count": 56,
   "metadata": {},
   "outputs": [
    {
     "data": {
      "text/plain": [
       "array([0.477  , 0.458  , 5.00001])"
      ]
     },
     "execution_count": 56,
     "metadata": {},
     "output_type": "execute_result"
    }
   ],
   "source": [
    "y_test[:3]"
   ]
  },
  {
   "cell_type": "markdown",
   "metadata": {},
   "source": [
    "# Assignment: Classification of House Locations\n",
    "\n",
    "In the first practical, you used the California House Prices Dataset in order to predict the prices of the houses based on various properties about the houses. In this assignment, we will experiment with `TensorFlow` and train a model to predict the \"ocean proximity\" of a house.\n",
    "\n",
    "First, let's read in the dataset:"
   ]
  },
  {
   "cell_type": "code",
   "execution_count": 57,
   "metadata": {},
   "outputs": [
    {
     "data": {
      "text/html": [
       "<div>\n",
       "<style scoped>\n",
       "    .dataframe tbody tr th:only-of-type {\n",
       "        vertical-align: middle;\n",
       "    }\n",
       "\n",
       "    .dataframe tbody tr th {\n",
       "        vertical-align: top;\n",
       "    }\n",
       "\n",
       "    .dataframe thead th {\n",
       "        text-align: right;\n",
       "    }\n",
       "</style>\n",
       "<table border=\"1\" class=\"dataframe\">\n",
       "  <thead>\n",
       "    <tr style=\"text-align: right;\">\n",
       "      <th></th>\n",
       "      <th>longitude</th>\n",
       "      <th>latitude</th>\n",
       "      <th>housing_median_age</th>\n",
       "      <th>total_rooms</th>\n",
       "      <th>total_bedrooms</th>\n",
       "      <th>population</th>\n",
       "      <th>households</th>\n",
       "      <th>median_income</th>\n",
       "      <th>median_house_value</th>\n",
       "      <th>ocean_proximity</th>\n",
       "    </tr>\n",
       "  </thead>\n",
       "  <tbody>\n",
       "    <tr>\n",
       "      <th>0</th>\n",
       "      <td>-122.23</td>\n",
       "      <td>37.88</td>\n",
       "      <td>41.0</td>\n",
       "      <td>880.0</td>\n",
       "      <td>129.0</td>\n",
       "      <td>322.0</td>\n",
       "      <td>126.0</td>\n",
       "      <td>8.3252</td>\n",
       "      <td>452600.0</td>\n",
       "      <td>NEAR BAY</td>\n",
       "    </tr>\n",
       "    <tr>\n",
       "      <th>1</th>\n",
       "      <td>-122.22</td>\n",
       "      <td>37.86</td>\n",
       "      <td>21.0</td>\n",
       "      <td>7099.0</td>\n",
       "      <td>1106.0</td>\n",
       "      <td>2401.0</td>\n",
       "      <td>1138.0</td>\n",
       "      <td>8.3014</td>\n",
       "      <td>358500.0</td>\n",
       "      <td>NEAR BAY</td>\n",
       "    </tr>\n",
       "    <tr>\n",
       "      <th>2</th>\n",
       "      <td>-122.24</td>\n",
       "      <td>37.85</td>\n",
       "      <td>52.0</td>\n",
       "      <td>1467.0</td>\n",
       "      <td>190.0</td>\n",
       "      <td>496.0</td>\n",
       "      <td>177.0</td>\n",
       "      <td>7.2574</td>\n",
       "      <td>352100.0</td>\n",
       "      <td>NEAR BAY</td>\n",
       "    </tr>\n",
       "    <tr>\n",
       "      <th>3</th>\n",
       "      <td>-122.25</td>\n",
       "      <td>37.85</td>\n",
       "      <td>52.0</td>\n",
       "      <td>1274.0</td>\n",
       "      <td>235.0</td>\n",
       "      <td>558.0</td>\n",
       "      <td>219.0</td>\n",
       "      <td>5.6431</td>\n",
       "      <td>341300.0</td>\n",
       "      <td>NEAR BAY</td>\n",
       "    </tr>\n",
       "    <tr>\n",
       "      <th>4</th>\n",
       "      <td>-122.25</td>\n",
       "      <td>37.85</td>\n",
       "      <td>52.0</td>\n",
       "      <td>1627.0</td>\n",
       "      <td>280.0</td>\n",
       "      <td>565.0</td>\n",
       "      <td>259.0</td>\n",
       "      <td>3.8462</td>\n",
       "      <td>342200.0</td>\n",
       "      <td>NEAR BAY</td>\n",
       "    </tr>\n",
       "  </tbody>\n",
       "</table>\n",
       "</div>"
      ],
      "text/plain": [
       "   longitude  latitude  housing_median_age  total_rooms  total_bedrooms  \\\n",
       "0    -122.23     37.88                41.0        880.0           129.0   \n",
       "1    -122.22     37.86                21.0       7099.0          1106.0   \n",
       "2    -122.24     37.85                52.0       1467.0           190.0   \n",
       "3    -122.25     37.85                52.0       1274.0           235.0   \n",
       "4    -122.25     37.85                52.0       1627.0           280.0   \n",
       "\n",
       "   population  households  median_income  median_house_value ocean_proximity  \n",
       "0       322.0       126.0         8.3252            452600.0        NEAR BAY  \n",
       "1      2401.0      1138.0         8.3014            358500.0        NEAR BAY  \n",
       "2       496.0       177.0         7.2574            352100.0        NEAR BAY  \n",
       "3       558.0       219.0         5.6431            341300.0        NEAR BAY  \n",
       "4       565.0       259.0         3.8462            342200.0        NEAR BAY  "
      ]
     },
     "execution_count": 57,
     "metadata": {},
     "output_type": "execute_result"
    }
   ],
   "source": [
    "import pandas as pd\n",
    "data = pd.read_csv('housing/housing.csv')\n",
    "data.head()"
   ]
  },
  {
   "cell_type": "markdown",
   "metadata": {},
   "source": [
    "Next, we split the ocean proximity column from the other features and convert the values to numerical IDs. Remember, the `ocean_proximity` column already contains discrete classes, so it is well-suited for the classification task. However, these are strings and in order to optimise the softmax function in `TensorFlow`, we need numerical IDs instead of strings. We can use the `pandas` map function to do the conversion:"
   ]
  },
  {
   "cell_type": "code",
   "execution_count": 58,
   "metadata": {},
   "outputs": [],
   "source": [
    "X = data.copy().drop([\"ocean_proximity\"], axis=1)\n",
    "Y = data.copy()[\"ocean_proximity\"]\n",
    "Y = data.copy()[\"ocean_proximity\"].map({\"<1H OCEAN\":0, \"INLAND\":1, \"ISLAND\": 2, \"NEAR BAY\": 3, \"NEAR OCEAN\": 4}).values"
   ]
  },
  {
   "cell_type": "markdown",
   "metadata": {},
   "source": [
    "Now, let's split off some data for development and testing:\n"
   ]
  },
  {
   "cell_type": "code",
   "execution_count": 59,
   "metadata": {},
   "outputs": [],
   "source": [
    "from sklearn.model_selection import train_test_split\n",
    "\n",
    "X_train, X_test, y_train, y_test = train_test_split(X, Y, test_size=0.2, train_size=0.8, random_state=42)\n",
    "X_train, X_dev, y_train, y_dev = train_test_split(X_train, y_train, test_size=0.2, train_size=0.8, random_state=42)"
   ]
  },
  {
   "cell_type": "markdown",
   "metadata": {},
   "source": [
    "And finally, let's preprocess the input features before giving them to the network. We need to fill in missing values with the imputer, and standardise the values to a similar range using the scaler:"
   ]
  },
  {
   "cell_type": "code",
   "execution_count": 60,
   "metadata": {},
   "outputs": [],
   "source": [
    "from sklearn.impute import SimpleImputer \n",
    "from sklearn import preprocessing\n",
    "\n",
    "imputer = SimpleImputer(strategy=\"median\")\n",
    "imputer.fit(X_train)\n",
    "\n",
    "X_train = imputer.transform(X_train)\n",
    "X_dev = imputer.transform(X_dev)\n",
    "X_test = imputer.transform(X_test)\n",
    "\n",
    "scaler = preprocessing.StandardScaler().fit(X_train)\n",
    "\n",
    "X_train = scaler.transform(X_train)\n",
    "X_dev = scaler.transform(X_dev)\n",
    "X_test = scaler.transform(X_test)"
   ]
  },
  {
   "cell_type": "markdown",
   "metadata": {},
   "source": [
    "We now have a dataset that we can work with.\n",
    "\n",
    "Input features:"
   ]
  },
  {
   "cell_type": "code",
   "execution_count": 61,
   "metadata": {},
   "outputs": [
    {
     "name": "stdout",
     "output_type": "stream",
     "text": [
      "(13209, 9)\n",
      "(3303, 9)\n",
      "(4128, 9)\n",
      "[[-0.69155432  1.10281811 -0.12449485 -0.44361185 -0.60289408 -0.48710064\n",
      "  -0.64120663  0.44340968 -0.25873131]\n",
      " [ 0.8544348  -0.72493883 -1.07770852  1.75575918  1.99734983  1.69902706\n",
      "   2.04218568  0.00321001 -0.28999612]\n",
      " [ 0.86440892 -0.88428174 -0.20392932 -0.15088981 -0.02963101 -0.13535041\n",
      "  -0.16516379 -0.52181236 -0.01729749]]\n"
     ]
    }
   ],
   "source": [
    "print(X_train.shape)\n",
    "print(X_dev.shape)\n",
    "print(X_test.shape)\n",
    "print(X_train[:3])"
   ]
  },
  {
   "cell_type": "markdown",
   "metadata": {},
   "source": [
    "And the correstponding gold-standard labels:"
   ]
  },
  {
   "cell_type": "code",
   "execution_count": 62,
   "metadata": {},
   "outputs": [
    {
     "name": "stdout",
     "output_type": "stream",
     "text": [
      "(13209,)\n",
      "(3303,)\n",
      "(4128,)\n",
      "[1 0 0 4 1 1 3 0 0 0]\n"
     ]
    }
   ],
   "source": [
    "print(y_train.shape)\n",
    "print(y_dev.shape)\n",
    "print(y_test.shape)\n",
    "print(y_train[:10])"
   ]
  },
  {
   "cell_type": "markdown",
   "metadata": {},
   "source": [
    "Based on the code examples above, construct a `TensorFlow` model, then train, tune and test it on this dataset. Experiment with different model settings and hyperparameters. Calculate and evaluate classification accuracy - the percentage of datapoints where the predicted class matches the gold-standard class.\n",
    "\n",
    "During the practical session, give examples of what you tried and what your findings were.\n",
    "\n",
    "Some suggestions and tips:\n",
    "\n",
    "- The XOR classification code can be a good place to start.\n",
    "- The output layer needs to have size 5, because the dataset has 5 possible classes.\n",
    "- Try testing on the development set as you are training, to make sure you don't overfit.\n",
    "- Evaluate on the dev set as much as you want, but evaluate on the test set only after you have chosen a good set of hyperparameters.\n",
    "- You could try different learning rates, hidden layer sizes, learning strategies, etc.\n",
    "- Adaptive learning rates can (and sometimes should) be used together with a regular hand-picked learning rate, and different adaptive learning rates can prefer very different regular learning rates.\n",
    "\n",
    "There are a number of additional (optional) steps that you can try: you can visualise your network architecture, changes in loss and metrics, print out and visualise confusion matrices, implement \"traditional\" machine learning algorithms (e.g., from Practicals 2 and 3) and compare the results, etc. "
   ]
  },
  {
   "cell_type": "code",
   "execution_count": 73,
   "metadata": {},
   "outputs": [
    {
     "name": "stdout",
     "output_type": "stream",
     "text": [
      "Epoch 1/100\n",
      "133/133 [==============================] - 0s 2ms/step - loss: 0.8937 - accuracy: 0.6882 - val_loss: 0.6148 - val_accuracy: 0.7675\n",
      "Epoch 2/100\n",
      "133/133 [==============================] - 0s 1ms/step - loss: 0.5424 - accuracy: 0.7907 - val_loss: 0.4939 - val_accuracy: 0.8053\n",
      "Epoch 3/100\n",
      "133/133 [==============================] - 0s 1ms/step - loss: 0.4534 - accuracy: 0.8203 - val_loss: 0.4297 - val_accuracy: 0.8250\n",
      "Epoch 4/100\n",
      "133/133 [==============================] - 0s 1ms/step - loss: 0.4014 - accuracy: 0.8366 - val_loss: 0.3914 - val_accuracy: 0.8408\n",
      "Epoch 5/100\n",
      "133/133 [==============================] - 0s 1ms/step - loss: 0.3602 - accuracy: 0.8508 - val_loss: 0.3482 - val_accuracy: 0.8559\n",
      "Epoch 6/100\n",
      "133/133 [==============================] - 0s 1ms/step - loss: 0.3395 - accuracy: 0.8571 - val_loss: 0.3247 - val_accuracy: 0.8647\n",
      "Epoch 7/100\n",
      "133/133 [==============================] - 0s 1ms/step - loss: 0.3255 - accuracy: 0.8664 - val_loss: 0.3635 - val_accuracy: 0.8495\n",
      "Epoch 8/100\n",
      "133/133 [==============================] - 0s 1ms/step - loss: 0.3175 - accuracy: 0.8692 - val_loss: 0.3207 - val_accuracy: 0.8756\n",
      "Epoch 9/100\n",
      "133/133 [==============================] - 0s 1ms/step - loss: 0.3001 - accuracy: 0.8773 - val_loss: 0.3065 - val_accuracy: 0.8741\n",
      "Epoch 10/100\n",
      "133/133 [==============================] - 0s 1ms/step - loss: 0.2783 - accuracy: 0.8834 - val_loss: 0.2858 - val_accuracy: 0.8819\n",
      "Epoch 11/100\n",
      "133/133 [==============================] - 0s 1ms/step - loss: 0.2762 - accuracy: 0.8866 - val_loss: 0.3132 - val_accuracy: 0.8789\n",
      "Epoch 12/100\n",
      "133/133 [==============================] - 0s 1ms/step - loss: 0.2640 - accuracy: 0.8931 - val_loss: 0.2820 - val_accuracy: 0.8843\n",
      "Epoch 13/100\n",
      "133/133 [==============================] - 0s 1ms/step - loss: 0.2516 - accuracy: 0.9008 - val_loss: 0.2677 - val_accuracy: 0.8892\n",
      "Epoch 14/100\n",
      "133/133 [==============================] - 0s 1ms/step - loss: 0.2451 - accuracy: 0.8999 - val_loss: 0.2593 - val_accuracy: 0.8949\n",
      "Epoch 15/100\n",
      "133/133 [==============================] - 0s 2ms/step - loss: 0.2339 - accuracy: 0.9054 - val_loss: 0.2566 - val_accuracy: 0.8992\n",
      "Epoch 16/100\n",
      "133/133 [==============================] - 0s 1ms/step - loss: 0.2309 - accuracy: 0.9060 - val_loss: 0.2443 - val_accuracy: 0.8995\n",
      "Epoch 17/100\n",
      "133/133 [==============================] - 0s 1ms/step - loss: 0.2221 - accuracy: 0.9110 - val_loss: 0.2369 - val_accuracy: 0.9083\n",
      "Epoch 18/100\n",
      "133/133 [==============================] - 0s 1ms/step - loss: 0.2193 - accuracy: 0.9110 - val_loss: 0.2303 - val_accuracy: 0.9089\n",
      "Epoch 19/100\n",
      "133/133 [==============================] - 0s 1ms/step - loss: 0.2078 - accuracy: 0.9157 - val_loss: 0.2426 - val_accuracy: 0.9025\n",
      "Epoch 20/100\n",
      "133/133 [==============================] - 0s 1ms/step - loss: 0.2077 - accuracy: 0.9135 - val_loss: 0.2288 - val_accuracy: 0.9107\n",
      "Epoch 21/100\n",
      "133/133 [==============================] - 0s 1ms/step - loss: 0.2065 - accuracy: 0.9160 - val_loss: 0.2252 - val_accuracy: 0.9089\n",
      "Epoch 22/100\n",
      "133/133 [==============================] - 0s 1ms/step - loss: 0.2033 - accuracy: 0.9169 - val_loss: 0.2262 - val_accuracy: 0.9164\n",
      "Epoch 23/100\n",
      "133/133 [==============================] - 0s 1ms/step - loss: 0.1947 - accuracy: 0.9222 - val_loss: 0.2557 - val_accuracy: 0.9013\n",
      "Epoch 24/100\n",
      "133/133 [==============================] - 0s 1ms/step - loss: 0.1943 - accuracy: 0.9203 - val_loss: 0.2085 - val_accuracy: 0.9180\n",
      "Epoch 25/100\n",
      "133/133 [==============================] - 0s 1ms/step - loss: 0.1963 - accuracy: 0.9200 - val_loss: 0.2372 - val_accuracy: 0.9155\n",
      "Epoch 26/100\n",
      "133/133 [==============================] - 0s 1ms/step - loss: 0.1879 - accuracy: 0.9230 - val_loss: 0.2353 - val_accuracy: 0.9034\n",
      "Epoch 27/100\n",
      "133/133 [==============================] - 0s 1ms/step - loss: 0.1899 - accuracy: 0.9212 - val_loss: 0.2100 - val_accuracy: 0.9140\n",
      "Epoch 28/100\n",
      "133/133 [==============================] - 0s 1ms/step - loss: 0.1807 - accuracy: 0.9260 - val_loss: 0.1981 - val_accuracy: 0.9192\n",
      "Epoch 29/100\n",
      "133/133 [==============================] - 0s 1ms/step - loss: 0.1796 - accuracy: 0.9275 - val_loss: 0.2279 - val_accuracy: 0.9064\n",
      "Epoch 30/100\n",
      "133/133 [==============================] - 0s 1ms/step - loss: 0.1752 - accuracy: 0.9263 - val_loss: 0.2214 - val_accuracy: 0.9140\n",
      "Epoch 31/100\n",
      "133/133 [==============================] - 0s 1ms/step - loss: 0.1756 - accuracy: 0.9293 - val_loss: 0.1985 - val_accuracy: 0.9216\n",
      "Epoch 32/100\n",
      "133/133 [==============================] - 0s 1ms/step - loss: 0.1749 - accuracy: 0.9279 - val_loss: 0.1996 - val_accuracy: 0.9207\n",
      "Epoch 33/100\n",
      "133/133 [==============================] - 0s 1ms/step - loss: 0.1807 - accuracy: 0.9253 - val_loss: 0.2137 - val_accuracy: 0.9137\n",
      "Epoch 34/100\n",
      "133/133 [==============================] - 0s 1ms/step - loss: 0.1679 - accuracy: 0.9321 - val_loss: 0.1943 - val_accuracy: 0.9243\n",
      "Epoch 35/100\n",
      "133/133 [==============================] - 0s 1ms/step - loss: 0.1689 - accuracy: 0.9308 - val_loss: 0.2178 - val_accuracy: 0.9152\n",
      "Epoch 36/100\n",
      "133/133 [==============================] - 0s 2ms/step - loss: 0.2170 - accuracy: 0.9171 - val_loss: 0.1990 - val_accuracy: 0.9198\n",
      "Epoch 37/100\n",
      "133/133 [==============================] - 0s 1ms/step - loss: 0.1645 - accuracy: 0.9306 - val_loss: 0.2030 - val_accuracy: 0.9158\n",
      "Epoch 38/100\n",
      "133/133 [==============================] - 0s 1ms/step - loss: 0.1623 - accuracy: 0.9325 - val_loss: 0.2031 - val_accuracy: 0.9155\n",
      "Epoch 39/100\n",
      "133/133 [==============================] - 0s 1ms/step - loss: 0.1623 - accuracy: 0.9321 - val_loss: 0.2015 - val_accuracy: 0.9195\n",
      "Epoch 40/100\n",
      "133/133 [==============================] - 0s 1ms/step - loss: 0.1543 - accuracy: 0.9356 - val_loss: 0.1967 - val_accuracy: 0.9222\n",
      "Epoch 41/100\n",
      "133/133 [==============================] - 0s 1ms/step - loss: 0.1519 - accuracy: 0.9374 - val_loss: 0.1976 - val_accuracy: 0.9207\n",
      "Epoch 42/100\n",
      "133/133 [==============================] - 0s 1ms/step - loss: 0.1519 - accuracy: 0.9367 - val_loss: 0.1940 - val_accuracy: 0.9183\n",
      "Epoch 43/100\n",
      "133/133 [==============================] - 0s 1ms/step - loss: 0.1508 - accuracy: 0.9388 - val_loss: 0.1883 - val_accuracy: 0.9210\n",
      "Epoch 44/100\n",
      "133/133 [==============================] - 0s 1ms/step - loss: 0.1522 - accuracy: 0.9364 - val_loss: 0.1827 - val_accuracy: 0.9295\n",
      "Epoch 45/100\n",
      "133/133 [==============================] - 0s 2ms/step - loss: 0.1546 - accuracy: 0.9348 - val_loss: 0.1907 - val_accuracy: 0.9213\n",
      "Epoch 46/100\n",
      "133/133 [==============================] - 0s 2ms/step - loss: 0.1445 - accuracy: 0.9394 - val_loss: 0.2390 - val_accuracy: 0.9043\n",
      "Epoch 47/100\n",
      "133/133 [==============================] - 0s 1ms/step - loss: 0.1423 - accuracy: 0.9418 - val_loss: 0.2060 - val_accuracy: 0.9207\n",
      "Epoch 48/100\n",
      "133/133 [==============================] - 0s 1ms/step - loss: 0.1498 - accuracy: 0.9391 - val_loss: 0.1854 - val_accuracy: 0.9267\n",
      "Epoch 49/100\n",
      "133/133 [==============================] - 0s 1ms/step - loss: 0.1433 - accuracy: 0.9385 - val_loss: 0.1870 - val_accuracy: 0.9225\n",
      "Epoch 50/100\n",
      "133/133 [==============================] - 0s 1ms/step - loss: 0.1454 - accuracy: 0.9406 - val_loss: 0.1962 - val_accuracy: 0.9246\n",
      "Epoch 51/100\n",
      "133/133 [==============================] - 0s 1ms/step - loss: 0.1518 - accuracy: 0.9356 - val_loss: 0.1783 - val_accuracy: 0.9258\n",
      "Epoch 52/100\n",
      "133/133 [==============================] - 0s 1ms/step - loss: 0.1388 - accuracy: 0.9422 - val_loss: 0.1815 - val_accuracy: 0.9252\n",
      "Epoch 53/100\n",
      "133/133 [==============================] - 0s 1ms/step - loss: 0.1441 - accuracy: 0.9394 - val_loss: 0.1774 - val_accuracy: 0.9264\n",
      "Epoch 54/100\n",
      "133/133 [==============================] - 0s 1ms/step - loss: 0.1402 - accuracy: 0.9411 - val_loss: 0.1758 - val_accuracy: 0.9276\n",
      "Epoch 55/100\n",
      "133/133 [==============================] - 0s 1ms/step - loss: 0.1359 - accuracy: 0.9447 - val_loss: 0.1979 - val_accuracy: 0.9216\n",
      "Epoch 56/100\n",
      "133/133 [==============================] - 0s 1ms/step - loss: 0.1326 - accuracy: 0.9468 - val_loss: 0.1926 - val_accuracy: 0.9258\n",
      "Epoch 57/100\n",
      "133/133 [==============================] - 0s 2ms/step - loss: 0.1302 - accuracy: 0.9466 - val_loss: 0.2029 - val_accuracy: 0.9225\n"
     ]
    },
    {
     "name": "stdout",
     "output_type": "stream",
     "text": [
      "Epoch 58/100\n",
      "133/133 [==============================] - 0s 1ms/step - loss: 0.1530 - accuracy: 0.9342 - val_loss: 0.1944 - val_accuracy: 0.9258\n",
      "Epoch 59/100\n",
      "133/133 [==============================] - 0s 2ms/step - loss: 0.1315 - accuracy: 0.9452 - val_loss: 0.1647 - val_accuracy: 0.9364\n",
      "Epoch 60/100\n",
      "133/133 [==============================] - 0s 1ms/step - loss: 0.1282 - accuracy: 0.9477 - val_loss: 0.1835 - val_accuracy: 0.9231\n",
      "Epoch 61/100\n",
      "133/133 [==============================] - 0s 1ms/step - loss: 0.1294 - accuracy: 0.9462 - val_loss: 0.1751 - val_accuracy: 0.9285\n",
      "Epoch 62/100\n",
      "133/133 [==============================] - 0s 1ms/step - loss: 0.1264 - accuracy: 0.9487 - val_loss: 0.1872 - val_accuracy: 0.9231\n",
      "Epoch 63/100\n",
      "133/133 [==============================] - 0s 2ms/step - loss: 0.1229 - accuracy: 0.9499 - val_loss: 0.1609 - val_accuracy: 0.9379\n",
      "Epoch 64/100\n",
      "133/133 [==============================] - 0s 2ms/step - loss: 0.1279 - accuracy: 0.9475 - val_loss: 0.2506 - val_accuracy: 0.9101\n",
      "Epoch 65/100\n",
      "133/133 [==============================] - 0s 1ms/step - loss: 0.1277 - accuracy: 0.9472 - val_loss: 0.1862 - val_accuracy: 0.9270\n",
      "Epoch 66/100\n",
      "133/133 [==============================] - 0s 1ms/step - loss: 0.1277 - accuracy: 0.9486 - val_loss: 0.1787 - val_accuracy: 0.9261\n",
      "Epoch 67/100\n",
      "133/133 [==============================] - 0s 1ms/step - loss: 0.1210 - accuracy: 0.9504 - val_loss: 0.1974 - val_accuracy: 0.9273\n",
      "Epoch 68/100\n",
      "133/133 [==============================] - 0s 2ms/step - loss: 0.1335 - accuracy: 0.9459 - val_loss: 0.1791 - val_accuracy: 0.9282\n",
      "Epoch 69/100\n",
      "133/133 [==============================] - 0s 1ms/step - loss: 0.1261 - accuracy: 0.9481 - val_loss: 0.1875 - val_accuracy: 0.9285\n",
      "Epoch 70/100\n",
      "133/133 [==============================] - 0s 1ms/step - loss: 0.1411 - accuracy: 0.9418 - val_loss: 0.1658 - val_accuracy: 0.9349\n",
      "Epoch 71/100\n",
      "133/133 [==============================] - 0s 1ms/step - loss: 0.1221 - accuracy: 0.9488 - val_loss: 0.1604 - val_accuracy: 0.9292\n",
      "Epoch 72/100\n",
      "133/133 [==============================] - 0s 1ms/step - loss: 0.1166 - accuracy: 0.9528 - val_loss: 0.1722 - val_accuracy: 0.9310\n",
      "Epoch 73/100\n",
      "133/133 [==============================] - 0s 1ms/step - loss: 0.1207 - accuracy: 0.9494 - val_loss: 0.1684 - val_accuracy: 0.9328\n",
      "Epoch 74/100\n",
      "133/133 [==============================] - 0s 1ms/step - loss: 0.1189 - accuracy: 0.9521 - val_loss: 0.1656 - val_accuracy: 0.9325\n",
      "Epoch 75/100\n",
      "133/133 [==============================] - 0s 1ms/step - loss: 0.1196 - accuracy: 0.9515 - val_loss: 0.1706 - val_accuracy: 0.9298\n",
      "Epoch 76/100\n",
      "133/133 [==============================] - 0s 1ms/step - loss: 0.1186 - accuracy: 0.9502 - val_loss: 0.1572 - val_accuracy: 0.9337\n",
      "Epoch 77/100\n",
      "133/133 [==============================] - 0s 1ms/step - loss: 0.1130 - accuracy: 0.9524 - val_loss: 0.1792 - val_accuracy: 0.9243\n",
      "Epoch 78/100\n",
      "133/133 [==============================] - 0s 1ms/step - loss: 0.1164 - accuracy: 0.9508 - val_loss: 0.1627 - val_accuracy: 0.9334\n",
      "Epoch 79/100\n",
      "133/133 [==============================] - 0s 1ms/step - loss: 0.1274 - accuracy: 0.9481 - val_loss: 0.1853 - val_accuracy: 0.9246\n",
      "Epoch 80/100\n",
      "133/133 [==============================] - 0s 1ms/step - loss: 0.1173 - accuracy: 0.9522 - val_loss: 0.1665 - val_accuracy: 0.9349\n",
      "Epoch 81/100\n",
      "133/133 [==============================] - 0s 1ms/step - loss: 0.1111 - accuracy: 0.9563 - val_loss: 0.2001 - val_accuracy: 0.9204\n",
      "Epoch 82/100\n",
      "133/133 [==============================] - 0s 1ms/step - loss: 0.1155 - accuracy: 0.9518 - val_loss: 0.1668 - val_accuracy: 0.9334\n",
      "Epoch 83/100\n",
      "133/133 [==============================] - 0s 1ms/step - loss: 0.1229 - accuracy: 0.9514 - val_loss: 0.1716 - val_accuracy: 0.9343\n",
      "Epoch 84/100\n",
      "133/133 [==============================] - 0s 2ms/step - loss: 0.1119 - accuracy: 0.9531 - val_loss: 0.2068 - val_accuracy: 0.9222\n",
      "Epoch 85/100\n",
      "133/133 [==============================] - 0s 2ms/step - loss: 0.1133 - accuracy: 0.9525 - val_loss: 0.1646 - val_accuracy: 0.9382\n",
      "Epoch 86/100\n",
      "133/133 [==============================] - 0s 1ms/step - loss: 0.1212 - accuracy: 0.9509 - val_loss: 0.1654 - val_accuracy: 0.9298\n",
      "Epoch 87/100\n",
      "133/133 [==============================] - 0s 1ms/step - loss: 0.1168 - accuracy: 0.9517 - val_loss: 0.1595 - val_accuracy: 0.9328\n",
      "Epoch 88/100\n",
      "133/133 [==============================] - 0s 1ms/step - loss: 0.1067 - accuracy: 0.9555 - val_loss: 0.1734 - val_accuracy: 0.9279\n",
      "Epoch 89/100\n",
      "133/133 [==============================] - 0s 1ms/step - loss: 0.1088 - accuracy: 0.9553 - val_loss: 0.1781 - val_accuracy: 0.9295\n",
      "Epoch 90/100\n",
      "133/133 [==============================] - 0s 1ms/step - loss: 0.1073 - accuracy: 0.9550 - val_loss: 0.1839 - val_accuracy: 0.9264\n",
      "Epoch 91/100\n",
      "133/133 [==============================] - 0s 1ms/step - loss: 0.1098 - accuracy: 0.9543 - val_loss: 0.1601 - val_accuracy: 0.9349\n",
      "Epoch 92/100\n",
      "133/133 [==============================] - 0s 1ms/step - loss: 0.1056 - accuracy: 0.9557 - val_loss: 0.1631 - val_accuracy: 0.9364\n",
      "Epoch 93/100\n",
      "133/133 [==============================] - 0s 2ms/step - loss: 0.1088 - accuracy: 0.9559 - val_loss: 0.1537 - val_accuracy: 0.9376\n",
      "Epoch 94/100\n",
      "133/133 [==============================] - 0s 1ms/step - loss: 0.1051 - accuracy: 0.9570 - val_loss: 0.1647 - val_accuracy: 0.9355\n",
      "Epoch 95/100\n",
      "133/133 [==============================] - 0s 1ms/step - loss: 0.1046 - accuracy: 0.9565 - val_loss: 0.1556 - val_accuracy: 0.9398\n",
      "Epoch 96/100\n",
      "133/133 [==============================] - 0s 1ms/step - loss: 0.1042 - accuracy: 0.9565 - val_loss: 0.1611 - val_accuracy: 0.9382\n",
      "Epoch 97/100\n",
      "133/133 [==============================] - 0s 1ms/step - loss: 0.1056 - accuracy: 0.9575 - val_loss: 0.1818 - val_accuracy: 0.9313\n",
      "Epoch 98/100\n",
      "133/133 [==============================] - 0s 1ms/step - loss: 0.1098 - accuracy: 0.9546 - val_loss: 0.1572 - val_accuracy: 0.9379\n",
      "Epoch 99/100\n",
      "133/133 [==============================] - 0s 1ms/step - loss: 0.1273 - accuracy: 0.9513 - val_loss: 0.1868 - val_accuracy: 0.9249\n",
      "Epoch 100/100\n",
      "133/133 [==============================] - 0s 1ms/step - loss: 0.1019 - accuracy: 0.9556 - val_loss: 0.1619 - val_accuracy: 0.9337\n",
      "413/413 [==============================] - 0s 806us/step - loss: 0.0985 - accuracy: 0.9593\n",
      "final training loss: 0.09848037362098694\n",
      "final training accuracy: 0.959270179271698\n",
      "104/104 [==============================] - 0s 739us/step - loss: 0.1619 - accuracy: 0.9337\n",
      "final dev loss: 0.16193917393684387\n",
      "final dev accuracy: 0.9336966276168823\n"
     ]
    }
   ],
   "source": [
    "tf.keras.backend.clear_session()\n",
    "\n",
    "model = tf.keras.Sequential([\n",
    "    tf.keras.layers.Dense(64, input_shape=(9,), activation='relu'),\n",
    "    tf.keras.layers.Dense(64, activation='relu'),\n",
    "    tf.keras.layers.Dense(32, activation='relu'),\n",
    "    tf.keras.layers.Dense(16, activation='relu'),\n",
    "    tf.keras.layers.Dense(5, activation='softmax')\n",
    "])\n",
    "\n",
    "model.compile(optimizer=tf.keras.optimizers.Adam(learning_rate=1e-3),\n",
    "              loss='sparse_categorical_crossentropy',\n",
    "              metrics=['accuracy'])\n",
    "\n",
    "history = model.fit(X_train, y_train, batch_size=100, epochs=100, validation_data=(X_dev, y_dev))\n",
    "\n",
    "eval_train = model.evaluate(X_train, y_train)\n",
    "print('final training loss:', eval_train[0])\n",
    "print('final training accuracy:', eval_train[1])\n",
    "eval_dev = model.evaluate(X_dev, y_dev)\n",
    "print('final dev loss:', eval_dev[0])\n",
    "print('final dev accuracy:', eval_dev[1])"
   ]
  },
  {
   "cell_type": "code",
   "execution_count": 74,
   "metadata": {},
   "outputs": [
    {
     "data": {
      "image/png": "[encoded data removed]",
      "text/plain": [
       "<Figure size 432x288 with 1 Axes>"
      ]
     },
     "metadata": {
      "needs_background": "light"
     },
     "output_type": "display_data"
    }
   ],
   "source": [
    "df = pd.DataFrame(history.history)\n",
    "plt.plot(df['loss'])\n",
    "plt.plot(df['val_loss'])\n",
    "plt.grid(True)\n",
    "plt.gca().set_ylim(0, 0.6)\n",
    "plt.show()"
   ]
  },
  {
   "cell_type": "code",
   "execution_count": 75,
   "metadata": {},
   "outputs": [
    {
     "name": "stdout",
     "output_type": "stream",
     "text": [
      "129/129 [==============================] - 0s 904us/step - loss: 0.1990 - accuracy: 0.9339\n",
      "final test loss: 0.19903801381587982\n",
      "final test accuracy: 0.9338662624359131\n"
     ]
    }
   ],
   "source": [
    "eval_test = model.evaluate(X_test, y_test)\n",
    "print('final test loss:', eval_test[0])\n",
    "print('final test accuracy:', eval_test[1])"
   ]
  },
  {
   "cell_type": "code",
   "execution_count": 76,
   "metadata": {},
   "outputs": [
    {
     "name": "stdout",
     "output_type": "stream",
     "text": [
      "[[1705   42    0    8   40]\n",
      " [  33 1290    0    1    0]\n",
      " [   0    0    1    0    0]\n",
      " [   9    5    0  414    8]\n",
      " [ 105    0    0   22  445]]\n"
     ]
    },
    {
     "data": {
      "image/png": "[encoded data removed]",
      "text/plain": [
       "<Figure size 432x288 with 1 Axes>"
      ]
     },
     "metadata": {
      "needs_background": "light"
     },
     "output_type": "display_data"
    }
   ],
   "source": [
    "predictions = model.predict(X_test)\n",
    "result = tf.argmax(predictions, axis=1)\n",
    "conf_mx = tf.math.confusion_matrix(y_test, result.numpy()).numpy()\n",
    "print(conf_mx)\n",
    "\n",
    "row_sums = conf_mx.sum(axis=1, keepdims=True)\n",
    "norm_conf_mx = conf_mx / row_sums\n",
    "np.fill_diagonal(norm_conf_mx, 0)\n",
    "plt.imshow(norm_conf_mx, cmap = \"jet\")\n",
    "plt.show()"
   ]
  },
  {
   "cell_type": "code",
   "execution_count": 67,
   "metadata": {},
   "outputs": [
    {
     "name": "stdout",
     "output_type": "stream",
     "text": [
      "0.7439437984496124\n"
     ]
    }
   ],
   "source": [
    "# Practical 2 - Perceptron\n",
    "from sklearn.linear_model import SGDClassifier\n",
    "from sklearn.preprocessing import StandardScaler, MinMaxScaler\n",
    "from sklearn.metrics import accuracy_score\n",
    "\n",
    "scaler = StandardScaler()\n",
    "X_train_scaled = scaler.fit_transform(X_train.astype(np.float64))\n",
    "X_test_scaled = scaler.fit_transform(X_test.astype(np.float64))\n",
    "\n",
    "sgd = SGDClassifier(max_iter=100, random_state=42, loss=\"perceptron\",\n",
    "                    eta0=1, learning_rate=\"constant\", penalty=None)\n",
    "sgd.fit(X_train_scaled, y_train)\n",
    "y_pred = sgd.predict(X_test_scaled)\n",
    "print(accuracy_score(y_test, y_pred)) "
   ]
  },
  {
   "cell_type": "code",
   "execution_count": 68,
   "metadata": {},
   "outputs": [
    {
     "name": "stdout",
     "output_type": "stream",
     "text": [
      "0.7342538759689923\n"
     ]
    }
   ],
   "source": [
    "# Practical 2 - Perceptron with the RBF kernel\n",
    "from sklearn.kernel_approximation import RBFSampler\n",
    "\n",
    "rbf_features = RBFSampler(gamma=0.0001, random_state=42)\n",
    "scaler = StandardScaler()\n",
    "X_train_features = rbf_features.fit_transform(X_train)\n",
    "X_train_features_scaled = scaler.fit_transform(X_train_features.astype(np.float64))\n",
    "X_test_features = rbf_features.fit_transform(X_test)\n",
    "X_test_features_scaled = scaler.fit_transform(X_test_features.astype(np.float64))\n",
    "\n",
    "sgd_rbf = SGDClassifier(max_iter=100, random_state=42, loss=\"perceptron\", \n",
    "                        eta0=1, learning_rate=\"constant\", penalty=None)\n",
    "sgd_rbf.fit(X_train_features_scaled, y_train)\n",
    "y_pred = sgd_rbf.predict(X_test_features_scaled)\n",
    "print(accuracy_score(y_test, y_pred)) "
   ]
  },
  {
   "cell_type": "code",
   "execution_count": 69,
   "metadata": {},
   "outputs": [
    {
     "name": "stdout",
     "output_type": "stream",
     "text": [
      "LogisticRegression 0.7953003875968992\n",
      "RandomForestClassifier 0.969718992248062\n",
      "SVC 0.8403585271317829\n",
      "VotingClassifier 0.908672480620155\n"
     ]
    },
    {
     "data": {
      "text/html": [
       "<div>\n",
       "<style scoped>\n",
       "    .dataframe tbody tr th:only-of-type {\n",
       "        vertical-align: middle;\n",
       "    }\n",
       "\n",
       "    .dataframe tbody tr th {\n",
       "        vertical-align: top;\n",
       "    }\n",
       "\n",
       "    .dataframe thead th {\n",
       "        text-align: right;\n",
       "    }\n",
       "</style>\n",
       "<table border=\"1\" class=\"dataframe\">\n",
       "  <thead>\n",
       "    <tr style=\"text-align: right;\">\n",
       "      <th></th>\n",
       "      <th>lr</th>\n",
       "      <th>rf</th>\n",
       "      <th>svc</th>\n",
       "    </tr>\n",
       "  </thead>\n",
       "  <tbody>\n",
       "    <tr>\n",
       "      <th>lr</th>\n",
       "      <td>1.000000</td>\n",
       "      <td>0.435940</td>\n",
       "      <td>0.524882</td>\n",
       "    </tr>\n",
       "    <tr>\n",
       "      <th>rf</th>\n",
       "      <td>0.435940</td>\n",
       "      <td>1.000000</td>\n",
       "      <td>0.653092</td>\n",
       "    </tr>\n",
       "    <tr>\n",
       "      <th>svc</th>\n",
       "      <td>0.524882</td>\n",
       "      <td>0.653092</td>\n",
       "      <td>1.000000</td>\n",
       "    </tr>\n",
       "  </tbody>\n",
       "</table>\n",
       "</div>"
      ],
      "text/plain": [
       "           lr        rf       svc\n",
       "lr   1.000000  0.435940  0.524882\n",
       "rf   0.435940  1.000000  0.653092\n",
       "svc  0.524882  0.653092  1.000000"
      ]
     },
     "execution_count": 69,
     "metadata": {},
     "output_type": "execute_result"
    }
   ],
   "source": [
    "# Practical 3 - Soft voting\n",
    "from sklearn.ensemble import RandomForestClassifier\n",
    "from sklearn.linear_model import LogisticRegression\n",
    "from sklearn.svm import SVC\n",
    "from sklearn.ensemble import VotingClassifier\n",
    "\n",
    "log_clf = LogisticRegression(random_state=42, max_iter=300) # Number of iterations is somewhere between 200-300\n",
    "rnd_clf = RandomForestClassifier(random_state=42)\n",
    "svm_clf = SVC(probability=True, random_state=42)\n",
    "\n",
    "voting_clf = VotingClassifier(\n",
    "    estimators=[('lr', log_clf), ('rf', rnd_clf), ('svc', svm_clf)],\n",
    "    voting='soft')\n",
    "\n",
    "for clf in (log_clf, rnd_clf, svm_clf, voting_clf):\n",
    "    clf.fit(X_train, y_train)\n",
    "    y_pred = clf.predict(X_test)\n",
    "    print(clf.__class__.__name__, accuracy_score(y_test, y_pred))\n",
    "\n",
    "def get_predictions(clf):\n",
    "    clf.fit(X_train, y_train)\n",
    "    return clf.predict(X_test)\n",
    "    \n",
    "preds = {'lr': get_predictions(log_clf), \n",
    "         'rf': get_predictions(rnd_clf), \n",
    "         'svc': get_predictions(svm_clf)}\n",
    "df = pd.DataFrame(data=preds)\n",
    "df.corr()"
   ]
  },
  {
   "cell_type": "code",
   "execution_count": 70,
   "metadata": {},
   "outputs": [
    {
     "name": "stdout",
     "output_type": "stream",
     "text": [
      "OOB score: 0.9808463926110985\n",
      "test accuracy: 0.9818313953488372\n"
     ]
    }
   ],
   "source": [
    "# Practical 3 - Bagging with 500 decision trees (out-of-bag evaluation)\n",
    "from sklearn.tree import DecisionTreeClassifier\n",
    "from sklearn.ensemble import BaggingClassifier\n",
    "\n",
    "bag_clf = BaggingClassifier(\n",
    "    DecisionTreeClassifier(random_state=42), n_estimators=500,\n",
    "    bootstrap=True, n_jobs=-1, oob_score=True, random_state=40)\n",
    "bag_clf.fit(X_train, y_train)\n",
    "print('OOB score:', bag_clf.oob_score_)\n",
    "y_pred = bag_clf.predict(X_test)\n",
    "print('test accuracy:', accuracy_score(y_test, y_pred))"
   ]
  },
  {
   "cell_type": "code",
   "execution_count": 71,
   "metadata": {},
   "outputs": [
    {
     "name": "stdout",
     "output_type": "stream",
     "text": [
      "0.8510174418604651\n"
     ]
    }
   ],
   "source": [
    "# Practical 3 - Pasting with 500 decision trees\n",
    "bag_clf = BaggingClassifier(\n",
    "    DecisionTreeClassifier(random_state=42), n_estimators=500,\n",
    "    max_samples=100, bootstrap=False, n_jobs=-1, random_state=42)\n",
    "bag_clf.fit(X_train, y_train)\n",
    "y_pred = bag_clf.predict(X_test)\n",
    "print(accuracy_score(y_test, y_pred))"
   ]
  },
  {
   "cell_type": "code",
   "execution_count": 72,
   "metadata": {},
   "outputs": [
    {
     "name": "stdout",
     "output_type": "stream",
     "text": [
      "0.9694767441860465\n"
     ]
    }
   ],
   "source": [
    "# Practical 3 - AdaBoost with early stopping\n",
    "from sklearn.ensemble import AdaBoostClassifier\n",
    "\n",
    "ada_clf = AdaBoostClassifier(\n",
    "    DecisionTreeClassifier(max_depth=15), n_estimators=300,\n",
    "    algorithm=\"SAMME.R\", learning_rate=0.5, random_state=42)\n",
    "ada_clf.fit(X_train, y_train)\n",
    "\n",
    "y_pred = ada_clf.predict(X_test)\n",
    "print(accuracy_score(y_test, y_pred))"
   ]
  }
 ],
 "metadata": {
  "kernelspec": {
   "display_name": "Python 3",
   "language": "python",
   "name": "python3"
  },
  "language_info": {
   "codemirror_mode": {
    "name": "ipython",
    "version": 3
   },
   "file_extension": ".py",
   "mimetype": "text/x-python",
   "name": "python",
   "nbconvert_exporter": "python",
   "pygments_lexer": "ipython3",
   "version": "3.8.3"
  }
 },
 "nbformat": 4,
 "nbformat_minor": 4
}
